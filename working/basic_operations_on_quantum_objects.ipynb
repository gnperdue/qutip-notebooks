{
 "cells": [
  {
   "cell_type": "markdown",
   "metadata": {},
   "source": [
    "# Basic Operations on Quantum Objects\n",
    "\n",
    "Following: http://qutip.org/docs/latest/guide/guide-basics.html"
   ]
  },
  {
   "cell_type": "markdown",
   "metadata": {},
   "source": [
    "## First things first"
   ]
  },
  {
   "cell_type": "code",
   "execution_count": 1,
   "metadata": {},
   "outputs": [],
   "source": [
    "from qutip import *\n",
    "import numpy as np\n",
    "import matplotlib.pyplot as plt\n",
    "%matplotlib inline"
   ]
  },
  {
   "cell_type": "markdown",
   "metadata": {},
   "source": [
    "## The quantum object class"
   ]
  },
  {
   "cell_type": "markdown",
   "metadata": {},
   "source": [
    "### Introduction"
   ]
  },
  {
   "cell_type": "code",
   "execution_count": 2,
   "metadata": {},
   "outputs": [
    {
     "data": {
      "text/latex": [
       "Quantum object: dims = [[1], [1]], shape = (1, 1), type = bra\\begin{equation*}\\left(\\begin{array}{*{11}c}0.0\\\\\\end{array}\\right)\\end{equation*}"
      ],
      "text/plain": [
       "Quantum object: dims = [[1], [1]], shape = (1, 1), type = bra\n",
       "Qobj data =\n",
       "[[0.]]"
      ]
     },
     "execution_count": 2,
     "metadata": {},
     "output_type": "execute_result"
    }
   ],
   "source": [
    "Qobj()"
   ]
  },
  {
   "cell_type": "code",
   "execution_count": 3,
   "metadata": {},
   "outputs": [
    {
     "data": {
      "text/latex": [
       "Quantum object: dims = [[5], [1]], shape = (5, 1), type = ket\\begin{equation*}\\left(\\begin{array}{*{11}c}1.0\\\\2.0\\\\3.0\\\\4.0\\\\5.0\\\\\\end{array}\\right)\\end{equation*}"
      ],
      "text/plain": [
       "Quantum object: dims = [[5], [1]], shape = (5, 1), type = ket\n",
       "Qobj data =\n",
       "[[1.]\n",
       " [2.]\n",
       " [3.]\n",
       " [4.]\n",
       " [5.]]"
      ]
     },
     "execution_count": 3,
     "metadata": {},
     "output_type": "execute_result"
    }
   ],
   "source": [
    "Qobj([[1], [2], [3], [4], [5]])"
   ]
  },
  {
   "cell_type": "code",
   "execution_count": 4,
   "metadata": {},
   "outputs": [
    {
     "data": {
      "text/latex": [
       "Quantum object: dims = [[1], [5]], shape = (1, 5), type = bra\\begin{equation*}\\left(\\begin{array}{*{11}c}1.0 & 2.0 & 3.0 & 4.0 & 5.0\\\\\\end{array}\\right)\\end{equation*}"
      ],
      "text/plain": [
       "Quantum object: dims = [[1], [5]], shape = (1, 5), type = bra\n",
       "Qobj data =\n",
       "[[1. 2. 3. 4. 5.]]"
      ]
     },
     "execution_count": 4,
     "metadata": {},
     "output_type": "execute_result"
    }
   ],
   "source": [
    "x = np.array([[1, 2, 3, 4, 5]])\n",
    "Qobj(x)"
   ]
  },
  {
   "cell_type": "code",
   "execution_count": 5,
   "metadata": {},
   "outputs": [
    {
     "data": {
      "text/latex": [
       "Quantum object: dims = [[5], [1]], shape = (5, 1), type = ket\\begin{equation*}\\left(\\begin{array}{*{11}c}1.0\\\\2.0\\\\3.0\\\\4.0\\\\5.0\\\\\\end{array}\\right)\\end{equation*}"
      ],
      "text/plain": [
       "Quantum object: dims = [[5], [1]], shape = (5, 1), type = ket\n",
       "Qobj data =\n",
       "[[1.]\n",
       " [2.]\n",
       " [3.]\n",
       " [4.]\n",
       " [5.]]"
      ]
     },
     "execution_count": 5,
     "metadata": {},
     "output_type": "execute_result"
    }
   ],
   "source": [
    "x = np.array([1, 2, 3, 4, 5])\n",
    "Qobj(x)"
   ]
  },
  {
   "cell_type": "code",
   "execution_count": 6,
   "metadata": {},
   "outputs": [
    {
     "data": {
      "text/latex": [
       "Quantum object: dims = [[4], [4]], shape = (4, 4), type = oper, isherm = False\\begin{equation*}\\left(\\begin{array}{*{11}c}0.978 & 0.516 & 0.253 & 0.068\\\\0.697 & 0.777 & 0.501 & 0.923\\\\0.675 & 0.581 & 0.370 & 0.080\\\\0.786 & 0.502 & 0.336 & 0.369\\\\\\end{array}\\right)\\end{equation*}"
      ],
      "text/plain": [
       "Quantum object: dims = [[4], [4]], shape = (4, 4), type = oper, isherm = False\n",
       "Qobj data =\n",
       "[[0.97761091 0.51557508 0.25299093 0.06751306]\n",
       " [0.69682285 0.77729871 0.50075491 0.92264695]\n",
       " [0.67537744 0.58121472 0.37035759 0.08049168]\n",
       " [0.78605878 0.50183916 0.33570775 0.3686084 ]]"
      ]
     },
     "execution_count": 6,
     "metadata": {},
     "output_type": "execute_result"
    }
   ],
   "source": [
    "r = np.random.rand(4, 4)\n",
    "Qobj(r)"
   ]
  },
  {
   "cell_type": "markdown",
   "metadata": {},
   "source": [
    "### States and operators"
   ]
  },
  {
   "cell_type": "code",
   "execution_count": 7,
   "metadata": {},
   "outputs": [
    {
     "data": {
      "text/latex": [
       "Quantum object: dims = [[2], [1]], shape = (2, 1), type = ket\\begin{equation*}\\left(\\begin{array}{*{11}c}0.0\\\\1.0\\\\\\end{array}\\right)\\end{equation*}"
      ],
      "text/plain": [
       "Quantum object: dims = [[2], [1]], shape = (2, 1), type = ket\n",
       "Qobj data =\n",
       "[[0.]\n",
       " [1.]]"
      ]
     },
     "execution_count": 7,
     "metadata": {},
     "output_type": "execute_result"
    }
   ],
   "source": [
    "basis(2, 1)"
   ]
  },
  {
   "cell_type": "code",
   "execution_count": 8,
   "metadata": {},
   "outputs": [
    {
     "data": {
      "text/latex": [
       "Quantum object: dims = [[2], [1]], shape = (2, 1), type = ket\\begin{equation*}\\left(\\begin{array}{*{11}c}1.0\\\\0.0\\\\\\end{array}\\right)\\end{equation*}"
      ],
      "text/plain": [
       "Quantum object: dims = [[2], [1]], shape = (2, 1), type = ket\n",
       "Qobj data =\n",
       "[[1.]\n",
       " [0.]]"
      ]
     },
     "execution_count": 8,
     "metadata": {},
     "output_type": "execute_result"
    }
   ],
   "source": [
    "fock(2, 0)"
   ]
  },
  {
   "cell_type": "code",
   "execution_count": 9,
   "metadata": {},
   "outputs": [
    {
     "data": {
      "text/latex": [
       "Quantum object: dims = [[2], [1]], shape = (2, 1), type = ket\\begin{equation*}\\left(\\begin{array}{*{11}c}0.540\\\\0.841\\\\\\end{array}\\right)\\end{equation*}"
      ],
      "text/plain": [
       "Quantum object: dims = [[2], [1]], shape = (2, 1), type = ket\n",
       "Qobj data =\n",
       "[[0.54030231]\n",
       " [0.84147098]]"
      ]
     },
     "execution_count": 9,
     "metadata": {},
     "output_type": "execute_result"
    }
   ],
   "source": [
    "coherent(2, 1)"
   ]
  },
  {
   "cell_type": "code",
   "execution_count": 10,
   "metadata": {},
   "outputs": [
    {
     "data": {
      "text/latex": [
       "Quantum object: dims = [[2], [2]], shape = (2, 2), type = oper, isherm = True\\begin{equation*}\\left(\\begin{array}{*{11}c}0.292 & 0.455\\\\0.455 & 0.708\\\\\\end{array}\\right)\\end{equation*}"
      ],
      "text/plain": [
       "Quantum object: dims = [[2], [2]], shape = (2, 2), type = oper, isherm = True\n",
       "Qobj data =\n",
       "[[0.29192658 0.45464871]\n",
       " [0.45464871 0.70807342]]"
      ]
     },
     "execution_count": 10,
     "metadata": {},
     "output_type": "execute_result"
    }
   ],
   "source": [
    "coherent_dm(2, 1)"
   ]
  },
  {
   "cell_type": "code",
   "execution_count": 11,
   "metadata": {},
   "outputs": [
    {
     "data": {
      "text/latex": [
       "Quantum object: dims = [[2], [2]], shape = (2, 2), type = oper, isherm = True\\begin{equation*}\\left(\\begin{array}{*{11}c}0.667 & 0.0\\\\0.0 & 0.333\\\\\\end{array}\\right)\\end{equation*}"
      ],
      "text/plain": [
       "Quantum object: dims = [[2], [2]], shape = (2, 2), type = oper, isherm = True\n",
       "Qobj data =\n",
       "[[0.66666667 0.        ]\n",
       " [0.         0.33333333]]"
      ]
     },
     "execution_count": 11,
     "metadata": {},
     "output_type": "execute_result"
    }
   ],
   "source": [
    "thermal_dm(2, 1)"
   ]
  },
  {
   "cell_type": "markdown",
   "metadata": {},
   "source": [
    "And many, many operators..."
   ]
  },
  {
   "cell_type": "code",
   "execution_count": 12,
   "metadata": {},
   "outputs": [
    {
     "data": {
      "text/latex": [
       "Quantum object: dims = [[2], [2]], shape = (2, 2), type = oper, isherm = True\\begin{equation*}\\left(\\begin{array}{*{11}c}1.0 & 0.0\\\\0.0 & 1.0\\\\\\end{array}\\right)\\end{equation*}"
      ],
      "text/plain": [
       "Quantum object: dims = [[2], [2]], shape = (2, 2), type = oper, isherm = True\n",
       "Qobj data =\n",
       "[[1. 0.]\n",
       " [0. 1.]]"
      ]
     },
     "execution_count": 12,
     "metadata": {},
     "output_type": "execute_result"
    }
   ],
   "source": [
    "qeye(2)"
   ]
  },
  {
   "cell_type": "code",
   "execution_count": 13,
   "metadata": {},
   "outputs": [
    {
     "data": {
      "text/latex": [
       "Quantum object: dims = [[2], [2]], shape = (2, 2), type = oper, isherm = True\\begin{equation*}\\left(\\begin{array}{*{11}c}0.0 & 0.0\\\\0.0 & 1.0\\\\\\end{array}\\right)\\end{equation*}"
      ],
      "text/plain": [
       "Quantum object: dims = [[2], [2]], shape = (2, 2), type = oper, isherm = True\n",
       "Qobj data =\n",
       "[[0. 0.]\n",
       " [0. 1.]]"
      ]
     },
     "execution_count": 13,
     "metadata": {},
     "output_type": "execute_result"
    }
   ],
   "source": [
    "num(2)"
   ]
  },
  {
   "cell_type": "code",
   "execution_count": 14,
   "metadata": {},
   "outputs": [
    {
     "data": {
      "text/latex": [
       "Quantum object: dims = [[2], [2]], shape = (2, 2), type = oper, isherm = False\\begin{equation*}\\left(\\begin{array}{*{11}c}0.0 & 0.0\\\\1.0 & 0.0\\\\\\end{array}\\right)\\end{equation*}"
      ],
      "text/plain": [
       "Quantum object: dims = [[2], [2]], shape = (2, 2), type = oper, isherm = False\n",
       "Qobj data =\n",
       "[[0. 0.]\n",
       " [1. 0.]]"
      ]
     },
     "execution_count": 14,
     "metadata": {},
     "output_type": "execute_result"
    }
   ],
   "source": [
    "create(2)"
   ]
  },
  {
   "cell_type": "code",
   "execution_count": 15,
   "metadata": {},
   "outputs": [
    {
     "data": {
      "text/latex": [
       "Quantum object: dims = [[2], [2]], shape = (2, 2), type = oper, isherm = True\\begin{equation*}\\left(\\begin{array}{*{11}c}0.0 & 1.0\\\\1.0 & 0.0\\\\\\end{array}\\right)\\end{equation*}"
      ],
      "text/plain": [
       "Quantum object: dims = [[2], [2]], shape = (2, 2), type = oper, isherm = True\n",
       "Qobj data =\n",
       "[[0. 1.]\n",
       " [1. 0.]]"
      ]
     },
     "execution_count": 15,
     "metadata": {},
     "output_type": "execute_result"
    }
   ],
   "source": [
    "sigmax()"
   ]
  },
  {
   "cell_type": "markdown",
   "metadata": {},
   "source": [
    "Some more examples..."
   ]
  },
  {
   "cell_type": "code",
   "execution_count": 16,
   "metadata": {},
   "outputs": [
    {
     "data": {
      "text/latex": [
       "Quantum object: dims = [[5], [1]], shape = (5, 1), type = ket\\begin{equation*}\\left(\\begin{array}{*{11}c}0.0\\\\0.0\\\\0.0\\\\1.0\\\\0.0\\\\\\end{array}\\right)\\end{equation*}"
      ],
      "text/plain": [
       "Quantum object: dims = [[5], [1]], shape = (5, 1), type = ket\n",
       "Qobj data =\n",
       "[[0.]\n",
       " [0.]\n",
       " [0.]\n",
       " [1.]\n",
       " [0.]]"
      ]
     },
     "execution_count": 16,
     "metadata": {},
     "output_type": "execute_result"
    }
   ],
   "source": [
    "basis(5, 3)"
   ]
  },
  {
   "cell_type": "code",
   "execution_count": 18,
   "metadata": {},
   "outputs": [],
   "source": [
    "#basis(5, 5)\n",
    "# ... error, as expected"
   ]
  },
  {
   "cell_type": "code",
   "execution_count": 19,
   "metadata": {},
   "outputs": [
    {
     "data": {
      "text/latex": [
       "Quantum object: dims = [[5], [1]], shape = (5, 1), type = ket\\begin{equation*}\\left(\\begin{array}{*{11}c}0.779\\\\(0.389-0.389j)\\\\-0.275j\\\\(-0.079-0.079j)\\\\-0.043\\\\\\end{array}\\right)\\end{equation*}"
      ],
      "text/plain": [
       "Quantum object: dims = [[5], [1]], shape = (5, 1), type = ket\n",
       "Qobj data =\n",
       "[[ 0.7788017 +0.j        ]\n",
       " [ 0.38939142-0.38939142j]\n",
       " [ 0.        -0.27545895j]\n",
       " [-0.07898617-0.07898617j]\n",
       " [-0.04314271+0.j        ]]"
      ]
     },
     "execution_count": 19,
     "metadata": {},
     "output_type": "execute_result"
    }
   ],
   "source": [
    "coherent(5, 0.5 - 0.5j)"
   ]
  },
  {
   "cell_type": "code",
   "execution_count": 20,
   "metadata": {},
   "outputs": [
    {
     "data": {
      "text/latex": [
       "Quantum object: dims = [[4], [4]], shape = (4, 4), type = oper, isherm = False\\begin{equation*}\\left(\\begin{array}{*{11}c}0.0 & 1.0 & 0.0 & 0.0\\\\0.0 & 0.0 & 1.414 & 0.0\\\\0.0 & 0.0 & 0.0 & 1.732\\\\0.0 & 0.0 & 0.0 & 0.0\\\\\\end{array}\\right)\\end{equation*}"
      ],
      "text/plain": [
       "Quantum object: dims = [[4], [4]], shape = (4, 4), type = oper, isherm = False\n",
       "Qobj data =\n",
       "[[0.         1.         0.         0.        ]\n",
       " [0.         0.         1.41421356 0.        ]\n",
       " [0.         0.         0.         1.73205081]\n",
       " [0.         0.         0.         0.        ]]"
      ]
     },
     "execution_count": 20,
     "metadata": {},
     "output_type": "execute_result"
    }
   ],
   "source": [
    "destroy(4)"
   ]
  },
  {
   "cell_type": "code",
   "execution_count": 21,
   "metadata": {},
   "outputs": [
    {
     "data": {
      "text/latex": [
       "Quantum object: dims = [[6], [6]], shape = (6, 6), type = oper, isherm = False\\begin{equation*}\\left(\\begin{array}{*{11}c}0.0 & 2.236 & 0.0 & 0.0 & 0.0 & 0.0\\\\0.0 & 0.0 & 2.828 & 0.0 & 0.0 & 0.0\\\\0.0 & 0.0 & 0.0 & 3.0 & 0.0 & 0.0\\\\0.0 & 0.0 & 0.0 & 0.0 & 2.828 & 0.0\\\\0.0 & 0.0 & 0.0 & 0.0 & 0.0 & 2.236\\\\0.0 & 0.0 & 0.0 & 0.0 & 0.0 & 0.0\\\\\\end{array}\\right)\\end{equation*}"
      ],
      "text/plain": [
       "Quantum object: dims = [[6], [6]], shape = (6, 6), type = oper, isherm = False\n",
       "Qobj data =\n",
       "[[0.         2.23606798 0.         0.         0.         0.        ]\n",
       " [0.         0.         2.82842712 0.         0.         0.        ]\n",
       " [0.         0.         0.         3.         0.         0.        ]\n",
       " [0.         0.         0.         0.         2.82842712 0.        ]\n",
       " [0.         0.         0.         0.         0.         2.23606798]\n",
       " [0.         0.         0.         0.         0.         0.        ]]"
      ]
     },
     "execution_count": 21,
     "metadata": {},
     "output_type": "execute_result"
    }
   ],
   "source": [
    "jmat(5/2.0, '+')"
   ]
  },
  {
   "cell_type": "markdown",
   "metadata": {},
   "source": [
    "### Qobj attributes"
   ]
  },
  {
   "cell_type": "code",
   "execution_count": 22,
   "metadata": {},
   "outputs": [
    {
     "data": {
      "text/plain": [
       "[[4], [4]]"
      ]
     },
     "execution_count": 22,
     "metadata": {},
     "output_type": "execute_result"
    }
   ],
   "source": [
    "q = destroy(4)\n",
    "q.dims"
   ]
  },
  {
   "cell_type": "code",
   "execution_count": 23,
   "metadata": {},
   "outputs": [
    {
     "data": {
      "text/plain": [
       "(4, 4)"
      ]
     },
     "execution_count": 23,
     "metadata": {},
     "output_type": "execute_result"
    }
   ],
   "source": [
    "q.shape"
   ]
  },
  {
   "cell_type": "code",
   "execution_count": 24,
   "metadata": {},
   "outputs": [
    {
     "name": "stdout",
     "output_type": "stream",
     "text": [
      "Quantum object: dims = [[4], [4]], shape = (4, 4), type = oper, isherm = False\n",
      "Qobj data =\n",
      "[[0.         1.         0.         0.        ]\n",
      " [0.         0.         1.41421356 0.        ]\n",
      " [0.         0.         0.         1.73205081]\n",
      " [0.         0.         0.         0.        ]]\n"
     ]
    }
   ],
   "source": [
    "print(q)"
   ]
  },
  {
   "cell_type": "markdown",
   "metadata": {},
   "source": [
    "The `Qobj` class may be viewed as a container for the properties needed to characterize a quantum operator or state vector."
   ]
  },
  {
   "cell_type": "code",
   "execution_count": 25,
   "metadata": {},
   "outputs": [
    {
     "data": {
      "text/plain": [
       "'oper'"
      ]
     },
     "execution_count": 25,
     "metadata": {},
     "output_type": "execute_result"
    }
   ],
   "source": [
    "q.type"
   ]
  },
  {
   "cell_type": "code",
   "execution_count": 26,
   "metadata": {},
   "outputs": [
    {
     "data": {
      "text/plain": [
       "False"
      ]
     },
     "execution_count": 26,
     "metadata": {},
     "output_type": "execute_result"
    }
   ],
   "source": [
    "q.isherm"
   ]
  },
  {
   "cell_type": "code",
   "execution_count": 27,
   "metadata": {},
   "outputs": [
    {
     "data": {
      "text/plain": [
       "<4x4 sparse matrix of type '<class 'numpy.complex128'>'\n",
       "\twith 3 stored elements in Compressed Sparse Row format>"
      ]
     },
     "execution_count": 27,
     "metadata": {},
     "output_type": "execute_result"
    }
   ],
   "source": [
    "q.data"
   ]
  },
  {
   "cell_type": "markdown",
   "metadata": {},
   "source": [
    "### Qobj Math"
   ]
  },
  {
   "cell_type": "code",
   "execution_count": 28,
   "metadata": {},
   "outputs": [],
   "source": [
    "q = destroy(4)\n",
    "x = sigmax()"
   ]
  },
  {
   "cell_type": "code",
   "execution_count": 29,
   "metadata": {},
   "outputs": [
    {
     "data": {
      "text/latex": [
       "Quantum object: dims = [[4], [4]], shape = (4, 4), type = oper, isherm = False\\begin{equation*}\\left(\\begin{array}{*{11}c}5.0 & 1.0 & 0.0 & 0.0\\\\0.0 & 5.0 & 1.414 & 0.0\\\\0.0 & 0.0 & 5.0 & 1.732\\\\0.0 & 0.0 & 0.0 & 5.0\\\\\\end{array}\\right)\\end{equation*}"
      ],
      "text/plain": [
       "Quantum object: dims = [[4], [4]], shape = (4, 4), type = oper, isherm = False\n",
       "Qobj data =\n",
       "[[5.         1.         0.         0.        ]\n",
       " [0.         5.         1.41421356 0.        ]\n",
       " [0.         0.         5.         1.73205081]\n",
       " [0.         0.         0.         5.        ]]"
      ]
     },
     "execution_count": 29,
     "metadata": {},
     "output_type": "execute_result"
    }
   ],
   "source": [
    "q + 5"
   ]
  },
  {
   "cell_type": "code",
   "execution_count": 30,
   "metadata": {},
   "outputs": [
    {
     "data": {
      "text/latex": [
       "Quantum object: dims = [[2], [2]], shape = (2, 2), type = oper, isherm = True\\begin{equation*}\\left(\\begin{array}{*{11}c}1.0 & 0.0\\\\0.0 & 1.0\\\\\\end{array}\\right)\\end{equation*}"
      ],
      "text/plain": [
       "Quantum object: dims = [[2], [2]], shape = (2, 2), type = oper, isherm = True\n",
       "Qobj data =\n",
       "[[1. 0.]\n",
       " [0. 1.]]"
      ]
     },
     "execution_count": 30,
     "metadata": {},
     "output_type": "execute_result"
    }
   ],
   "source": [
    "x * x"
   ]
  },
  {
   "cell_type": "code",
   "execution_count": 31,
   "metadata": {},
   "outputs": [
    {
     "data": {
      "text/latex": [
       "Quantum object: dims = [[4], [4]], shape = (4, 4), type = oper, isherm = False\\begin{equation*}\\left(\\begin{array}{*{11}c}0.0 & 0.0 & 0.0 & 2.449\\\\0.0 & 0.0 & 0.0 & 0.0\\\\0.0 & 0.0 & 0.0 & 0.0\\\\0.0 & 0.0 & 0.0 & 0.0\\\\\\end{array}\\right)\\end{equation*}"
      ],
      "text/plain": [
       "Quantum object: dims = [[4], [4]], shape = (4, 4), type = oper, isherm = False\n",
       "Qobj data =\n",
       "[[0.         0.         0.         2.44948974]\n",
       " [0.         0.         0.         0.        ]\n",
       " [0.         0.         0.         0.        ]\n",
       " [0.         0.         0.         0.        ]]"
      ]
     },
     "execution_count": 31,
     "metadata": {},
     "output_type": "execute_result"
    }
   ],
   "source": [
    "q ** 3"
   ]
  },
  {
   "cell_type": "code",
   "execution_count": 32,
   "metadata": {},
   "outputs": [
    {
     "data": {
      "text/latex": [
       "Quantum object: dims = [[2], [2]], shape = (2, 2), type = oper, isherm = True\\begin{equation*}\\left(\\begin{array}{*{11}c}0.0 & 0.707\\\\0.707 & 0.0\\\\\\end{array}\\right)\\end{equation*}"
      ],
      "text/plain": [
       "Quantum object: dims = [[2], [2]], shape = (2, 2), type = oper, isherm = True\n",
       "Qobj data =\n",
       "[[0.         0.70710678]\n",
       " [0.70710678 0.        ]]"
      ]
     },
     "execution_count": 32,
     "metadata": {},
     "output_type": "execute_result"
    }
   ],
   "source": [
    "x / np.sqrt(2)"
   ]
  },
  {
   "cell_type": "markdown",
   "metadata": {},
   "source": [
    "## Functions operating on Qobj class"
   ]
  },
  {
   "cell_type": "code",
   "execution_count": 33,
   "metadata": {},
   "outputs": [
    {
     "data": {
      "text/plain": [
       "False"
      ]
     },
     "execution_count": 33,
     "metadata": {},
     "output_type": "execute_result"
    }
   ],
   "source": [
    "q.check_herm()"
   ]
  },
  {
   "cell_type": "code",
   "execution_count": 34,
   "metadata": {},
   "outputs": [
    {
     "data": {
      "text/latex": [
       "Quantum object: dims = [[4], [4]], shape = (4, 4), type = oper, isherm = False\\begin{equation*}\\left(\\begin{array}{*{11}c}0.0 & 1.0 & 0.0 & 0.0\\\\0.0 & 0.0 & 1.414 & 0.0\\\\0.0 & 0.0 & 0.0 & 1.732\\\\0.0 & 0.0 & 0.0 & 0.0\\\\\\end{array}\\right)\\end{equation*}"
      ],
      "text/plain": [
       "Quantum object: dims = [[4], [4]], shape = (4, 4), type = oper, isherm = False\n",
       "Qobj data =\n",
       "[[0.         1.         0.         0.        ]\n",
       " [0.         0.         1.41421356 0.        ]\n",
       " [0.         0.         0.         1.73205081]\n",
       " [0.         0.         0.         0.        ]]"
      ]
     },
     "execution_count": 34,
     "metadata": {},
     "output_type": "execute_result"
    }
   ],
   "source": [
    "q.conj()"
   ]
  },
  {
   "cell_type": "code",
   "execution_count": 35,
   "metadata": {},
   "outputs": [
    {
     "data": {
      "text/latex": [
       "Quantum object: dims = [[4], [4]], shape = (4, 4), type = oper, isherm = False\\begin{equation*}\\left(\\begin{array}{*{11}c}0.0 & 0.0 & 0.0 & 0.0\\\\1.0 & 0.0 & 0.0 & 0.0\\\\0.0 & 1.414 & 0.0 & 0.0\\\\0.0 & 0.0 & 1.732 & 0.0\\\\\\end{array}\\right)\\end{equation*}"
      ],
      "text/plain": [
       "Quantum object: dims = [[4], [4]], shape = (4, 4), type = oper, isherm = False\n",
       "Qobj data =\n",
       "[[0.         0.         0.         0.        ]\n",
       " [1.         0.         0.         0.        ]\n",
       " [0.         1.41421356 0.         0.        ]\n",
       " [0.         0.         1.73205081 0.        ]]"
      ]
     },
     "execution_count": 35,
     "metadata": {},
     "output_type": "execute_result"
    }
   ],
   "source": [
    "q.dag()"
   ]
  },
  {
   "cell_type": "code",
   "execution_count": 36,
   "metadata": {},
   "outputs": [
    {
     "data": {
      "text/plain": [
       "0.0"
      ]
     },
     "execution_count": 36,
     "metadata": {},
     "output_type": "execute_result"
    }
   ],
   "source": [
    "q.tr()"
   ]
  },
  {
   "cell_type": "markdown",
   "metadata": {},
   "source": [
    "And more examples..."
   ]
  },
  {
   "cell_type": "code",
   "execution_count": 37,
   "metadata": {},
   "outputs": [
    {
     "data": {
      "text/latex": [
       "Quantum object: dims = [[5], [1]], shape = (5, 1), type = ket\\begin{equation*}\\left(\\begin{array}{*{11}c}0.0\\\\0.0\\\\0.0\\\\1.0\\\\0.0\\\\\\end{array}\\right)\\end{equation*}"
      ],
      "text/plain": [
       "Quantum object: dims = [[5], [1]], shape = (5, 1), type = ket\n",
       "Qobj data =\n",
       "[[0.]\n",
       " [0.]\n",
       " [0.]\n",
       " [1.]\n",
       " [0.]]"
      ]
     },
     "execution_count": 37,
     "metadata": {},
     "output_type": "execute_result"
    }
   ],
   "source": [
    "basis(5, 3)"
   ]
  },
  {
   "cell_type": "code",
   "execution_count": 38,
   "metadata": {},
   "outputs": [
    {
     "data": {
      "text/latex": [
       "Quantum object: dims = [[1], [5]], shape = (1, 5), type = bra\\begin{equation*}\\left(\\begin{array}{*{11}c}0.0 & 0.0 & 0.0 & 1.0 & 0.0\\\\\\end{array}\\right)\\end{equation*}"
      ],
      "text/plain": [
       "Quantum object: dims = [[1], [5]], shape = (1, 5), type = bra\n",
       "Qobj data =\n",
       "[[0. 0. 0. 1. 0.]]"
      ]
     },
     "execution_count": 38,
     "metadata": {},
     "output_type": "execute_result"
    }
   ],
   "source": [
    "basis(5, 3).dag()"
   ]
  },
  {
   "cell_type": "code",
   "execution_count": 39,
   "metadata": {},
   "outputs": [
    {
     "data": {
      "text/latex": [
       "Quantum object: dims = [[1], [1]], shape = (1, 1), type = bra\\begin{equation*}\\left(\\begin{array}{*{11}c}1.0\\\\\\end{array}\\right)\\end{equation*}"
      ],
      "text/plain": [
       "Quantum object: dims = [[1], [1]], shape = (1, 1), type = bra\n",
       "Qobj data =\n",
       "[[1.]]"
      ]
     },
     "execution_count": 39,
     "metadata": {},
     "output_type": "execute_result"
    }
   ],
   "source": [
    "basis(5, 3).dag() * basis(5, 3)"
   ]
  },
  {
   "cell_type": "code",
   "execution_count": 40,
   "metadata": {},
   "outputs": [
    {
     "data": {
      "text/latex": [
       "Quantum object: dims = [[5], [5]], shape = (5, 5), type = oper, isherm = True\\begin{equation*}\\left(\\begin{array}{*{11}c}0.0 & 0.0 & 0.0 & 0.0 & 0.0\\\\0.0 & 0.0 & 0.0 & 0.0 & 0.0\\\\0.0 & 0.0 & 0.0 & 0.0 & 0.0\\\\0.0 & 0.0 & 0.0 & 1.0 & 0.0\\\\0.0 & 0.0 & 0.0 & 0.0 & 0.0\\\\\\end{array}\\right)\\end{equation*}"
      ],
      "text/plain": [
       "Quantum object: dims = [[5], [5]], shape = (5, 5), type = oper, isherm = True\n",
       "Qobj data =\n",
       "[[0. 0. 0. 0. 0.]\n",
       " [0. 0. 0. 0. 0.]\n",
       " [0. 0. 0. 0. 0.]\n",
       " [0. 0. 0. 1. 0.]\n",
       " [0. 0. 0. 0. 0.]]"
      ]
     },
     "execution_count": 40,
     "metadata": {},
     "output_type": "execute_result"
    }
   ],
   "source": [
    "basis(5, 3) * basis(5, 3).dag()"
   ]
  },
  {
   "cell_type": "code",
   "execution_count": 41,
   "metadata": {},
   "outputs": [
    {
     "data": {
      "text/latex": [
       "Quantum object: dims = [[5], [5]], shape = (5, 5), type = oper, isherm = True\\begin{equation*}\\left(\\begin{array}{*{11}c}0.368 & 0.368 & 0.261 & 0.146 & 0.088\\\\0.368 & 0.368 & 0.261 & 0.146 & 0.088\\\\0.261 & 0.261 & 0.185 & 0.104 & 0.063\\\\0.146 & 0.146 & 0.104 & 0.058 & 0.035\\\\0.088 & 0.088 & 0.063 & 0.035 & 0.021\\\\\\end{array}\\right)\\end{equation*}"
      ],
      "text/plain": [
       "Quantum object: dims = [[5], [5]], shape = (5, 5), type = oper, isherm = True\n",
       "Qobj data =\n",
       "[[0.36791117 0.36774407 0.26105441 0.14620658 0.08826704]\n",
       " [0.36774407 0.36757705 0.26093584 0.14614018 0.08822695]\n",
       " [0.26105441 0.26093584 0.18523331 0.10374209 0.06263061]\n",
       " [0.14620658 0.14614018 0.10374209 0.05810197 0.035077  ]\n",
       " [0.08826704 0.08822695 0.06263061 0.035077   0.0211765 ]]"
      ]
     },
     "execution_count": 41,
     "metadata": {},
     "output_type": "execute_result"
    }
   ],
   "source": [
    "coherent_dm(5, 1)"
   ]
  },
  {
   "cell_type": "code",
   "execution_count": 42,
   "metadata": {},
   "outputs": [
    {
     "data": {
      "text/plain": [
       "array([0.36791117, 0.36757705, 0.18523331, 0.05810197, 0.0211765 ])"
      ]
     },
     "execution_count": 42,
     "metadata": {},
     "output_type": "execute_result"
    }
   ],
   "source": [
    "coherent_dm(5, 1).diag()"
   ]
  },
  {
   "cell_type": "code",
   "execution_count": 43,
   "metadata": {},
   "outputs": [
    {
     "data": {
      "text/plain": [
       "array([[0.36791117+0.j, 0.36774407+0.j, 0.26105441+0.j, 0.14620658+0.j,\n",
       "        0.08826704+0.j],\n",
       "       [0.36774407+0.j, 0.36757705+0.j, 0.26093584+0.j, 0.14614018+0.j,\n",
       "        0.08822695+0.j],\n",
       "       [0.26105441+0.j, 0.26093584+0.j, 0.18523331+0.j, 0.10374209+0.j,\n",
       "        0.06263061+0.j],\n",
       "       [0.14620658+0.j, 0.14614018+0.j, 0.10374209+0.j, 0.05810197+0.j,\n",
       "        0.035077  +0.j],\n",
       "       [0.08826704+0.j, 0.08822695+0.j, 0.06263061+0.j, 0.035077  +0.j,\n",
       "        0.0211765 +0.j]])"
      ]
     },
     "execution_count": 43,
     "metadata": {},
     "output_type": "execute_result"
    }
   ],
   "source": [
    "coherent_dm(5, 1).full()"
   ]
  },
  {
   "cell_type": "code",
   "execution_count": 44,
   "metadata": {},
   "outputs": [
    {
     "data": {
      "text/plain": [
       "1.0000000252077326"
      ]
     },
     "execution_count": 44,
     "metadata": {},
     "output_type": "execute_result"
    }
   ],
   "source": [
    "coherent_dm(5, 1).norm()"
   ]
  },
  {
   "cell_type": "code",
   "execution_count": 47,
   "metadata": {},
   "outputs": [
    {
     "data": {
      "text/latex": [
       "Quantum object: dims = [[5], [5]], shape = (5, 5), type = oper, isherm = False\\begin{equation*}\\left(\\begin{array}{*{11}c}0.368 & 0.368 & 0.261 & 0.146 & 0.088\\\\0.368 & (0.368+4.239\\times10^{-11}j) & (0.261+1.256\\times10^{-10}j) & (0.146-2.582\\times10^{-10}j) & (0.088-1.203\\times10^{-10}j)\\\\0.261 & (0.261+1.256\\times10^{-10}j) & (0.185+3.719\\times10^{-10}j) & (0.104-7.648\\times10^{-10}j) & (0.063-3.563\\times10^{-10}j)\\\\0.146 & (0.146-2.582\\times10^{-10}j) & (0.104-7.648\\times10^{-10}j) & (0.058+1.573\\times10^{-09}j) & (0.035+7.327\\times10^{-10}j)\\\\0.088 & (0.088-1.203\\times10^{-10}j) & (0.063-3.563\\times10^{-10}j) & (0.035+7.327\\times10^{-10}j) & (0.021+3.414\\times10^{-10}j)\\\\\\end{array}\\right)\\end{equation*}"
      ],
      "text/plain": [
       "Quantum object: dims = [[5], [5]], shape = (5, 5), type = oper, isherm = False\n",
       "Qobj data =\n",
       "[[0.36791119+0.00000000e+00j 0.36774406+0.00000000e+00j\n",
       "  0.2610544 +0.00000000e+00j 0.14620658+0.00000000e+00j\n",
       "  0.08826704+0.00000000e+00j]\n",
       " [0.36774406+0.00000000e+00j 0.36757705+4.23874181e-11j\n",
       "  0.26093584+1.25558676e-10j 0.14614018-2.58178591e-10j\n",
       "  0.08822695-1.20293587e-10j]\n",
       " [0.2610544 +0.00000000e+00j 0.26093584+1.25558676e-10j\n",
       "  0.18523332+3.71925960e-10j 0.10374209-7.64768498e-10j\n",
       "  0.06263061-3.56329879e-10j]\n",
       " [0.14620658+0.00000000e+00j 0.14614018-2.58178591e-10j\n",
       "  0.10374209-7.64768498e-10j 0.05810197+1.57254647e-09j\n",
       "  0.035077  +7.32699235e-10j]\n",
       " [0.08826704+0.00000000e+00j 0.08822695-1.20293587e-10j\n",
       "  0.06263061-3.56329879e-10j 0.035077  +7.32699235e-10j\n",
       "  0.0211765 +3.41387792e-10j]]"
      ]
     },
     "execution_count": 47,
     "metadata": {},
     "output_type": "execute_result"
    }
   ],
   "source": [
    "coherent_dm(5, 1).sqrtm()"
   ]
  },
  {
   "cell_type": "code",
   "execution_count": 48,
   "metadata": {},
   "outputs": [
    {
     "data": {
      "text/latex": [
       "Quantum object: dims = [[5], [5]], shape = (5, 5), type = oper, isherm = False\\begin{equation*}\\left(\\begin{array}{*{11}c}0.368 & 0.368 & 0.261 & 0.146 & 0.088\\\\0.368 & (0.368+4.239\\times10^{-11}j) & (0.261+1.256\\times10^{-10}j) & (0.146-2.582\\times10^{-10}j) & (0.088-1.203\\times10^{-10}j)\\\\0.261 & (0.261+1.256\\times10^{-10}j) & (0.185+3.719\\times10^{-10}j) & (0.104-7.648\\times10^{-10}j) & (0.063-3.563\\times10^{-10}j)\\\\0.146 & (0.146-2.582\\times10^{-10}j) & (0.104-7.648\\times10^{-10}j) & (0.058+1.573\\times10^{-09}j) & (0.035+7.327\\times10^{-10}j)\\\\0.088 & (0.088-1.203\\times10^{-10}j) & (0.063-3.563\\times10^{-10}j) & (0.035+7.327\\times10^{-10}j) & (0.021+3.414\\times10^{-10}j)\\\\\\end{array}\\right)\\end{equation*}"
      ],
      "text/plain": [
       "Quantum object: dims = [[5], [5]], shape = (5, 5), type = oper, isherm = False\n",
       "Qobj data =\n",
       "[[0.36791119+0.00000000e+00j 0.36774406+0.00000000e+00j\n",
       "  0.2610544 +0.00000000e+00j 0.14620658+0.00000000e+00j\n",
       "  0.08826704+0.00000000e+00j]\n",
       " [0.36774406+0.00000000e+00j 0.36757705+4.23874181e-11j\n",
       "  0.26093584+1.25558676e-10j 0.14614018-2.58178591e-10j\n",
       "  0.08822695-1.20293587e-10j]\n",
       " [0.2610544 +0.00000000e+00j 0.26093584+1.25558676e-10j\n",
       "  0.18523332+3.71925960e-10j 0.10374209-7.64768498e-10j\n",
       "  0.06263061-3.56329879e-10j]\n",
       " [0.14620658+0.00000000e+00j 0.14614018-2.58178591e-10j\n",
       "  0.10374209-7.64768498e-10j 0.05810197+1.57254647e-09j\n",
       "  0.035077  +7.32699235e-10j]\n",
       " [0.08826704+0.00000000e+00j 0.08822695-1.20293587e-10j\n",
       "  0.06263061-3.56329879e-10j 0.035077  +7.32699235e-10j\n",
       "  0.0211765 +3.41387792e-10j]]"
      ]
     },
     "execution_count": 48,
     "metadata": {},
     "output_type": "execute_result"
    }
   ],
   "source": [
    "coherent_dm(5, 1).sqrtm().tidyup()"
   ]
  },
  {
   "cell_type": "code",
   "execution_count": 49,
   "metadata": {},
   "outputs": [
    {
     "data": {
      "text/latex": [
       "Quantum object: dims = [[4], [1]], shape = (4, 1), type = ket\\begin{equation*}\\left(\\begin{array}{*{11}c}0.0\\\\1.0\\\\0.0\\\\0.0\\\\\\end{array}\\right)\\end{equation*}"
      ],
      "text/plain": [
       "Quantum object: dims = [[4], [1]], shape = (4, 1), type = ket\n",
       "Qobj data =\n",
       "[[0.]\n",
       " [1.]\n",
       " [0.]\n",
       " [0.]]"
      ]
     },
     "execution_count": 49,
     "metadata": {},
     "output_type": "execute_result"
    }
   ],
   "source": [
    "basis(4, 1).unit()"
   ]
  },
  {
   "cell_type": "code",
   "execution_count": 50,
   "metadata": {},
   "outputs": [
    {
     "data": {
      "text/latex": [
       "Quantum object: dims = [[4], [1]], shape = (4, 1), type = ket\\begin{equation*}\\left(\\begin{array}{*{11}c}0.0\\\\0.707\\\\0.707\\\\0.0\\\\\\end{array}\\right)\\end{equation*}"
      ],
      "text/plain": [
       "Quantum object: dims = [[4], [1]], shape = (4, 1), type = ket\n",
       "Qobj data =\n",
       "[[0.        ]\n",
       " [0.70710678]\n",
       " [0.70710678]\n",
       " [0.        ]]"
      ]
     },
     "execution_count": 50,
     "metadata": {},
     "output_type": "execute_result"
    }
   ],
   "source": [
    "(basis(4, 2) + basis(4, 1)).unit()"
   ]
  },
  {
   "cell_type": "code",
   "execution_count": null,
   "metadata": {},
   "outputs": [],
   "source": []
  }
 ],
 "metadata": {
  "kernelspec": {
   "display_name": "Python 3",
   "language": "python",
   "name": "python3"
  },
  "language_info": {
   "codemirror_mode": {
    "name": "ipython",
    "version": 3
   },
   "file_extension": ".py",
   "mimetype": "text/x-python",
   "name": "python",
   "nbconvert_exporter": "python",
   "pygments_lexer": "ipython3",
   "version": "3.7.6"
  }
 },
 "nbformat": 4,
 "nbformat_minor": 4
}
