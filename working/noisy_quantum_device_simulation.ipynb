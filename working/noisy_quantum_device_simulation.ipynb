{
 "cells": [
  {
   "cell_type": "markdown",
   "metadata": {},
   "source": [
    "# Noisy quantum device simulation with QuTiP\n",
    "\n",
    "Following: https://nbviewer.jupyter.org/github/qutip/qutip-notebooks/blob/master/examples/qip-noisy-device-simulator.ipynb\n",
    "\n",
    "From the [QuTiP Tutorials](http://qutip.org/tutorials.html)."
   ]
  },
  {
   "cell_type": "markdown",
   "metadata": {},
   "source": [
    "The basic element is a control pulse characterized by a driving Hamiltonian, the target qubits, and the pulse time sequence and amplitudes. Based on pulse level control, different backends may be defined for different physical systems (e.g., cavity QED, ion traps, or circuit QED, etc.). A compiler needs to be defined for each backend. The `Processor` translates a quantum circuit into the control pulse sequence and performs a (noisy) simulation."
   ]
  },
  {
   "cell_type": "markdown",
   "metadata": {},
   "source": [
    "## Pulse level control"
   ]
  },
  {
   "cell_type": "code",
   "execution_count": 1,
   "metadata": {},
   "outputs": [],
   "source": [
    "import copy\n",
    "import numpy as np\n",
    "import matplotlib.pyplot as plt\n",
    "pi = np.pi\n",
    "\n",
    "from qutip.qip.device import Processor\n",
    "from qutip.operators import sigmaz, sigmay, sigmax, destroy\n",
    "from qutip.states import basis\n",
    "from qutip.metrics import fidelity\n",
    "from qutip.qip.operations import rx, ry, rz, hadamard_transform"
   ]
  },
  {
   "cell_type": "markdown",
   "metadata": {},
   "source": [
    "### Controlling a single qubit"
   ]
  },
  {
   "cell_type": "markdown",
   "metadata": {},
   "source": [
    "Each pulse is represented by a `Pulse` object consisting of the control Hamiltonian, the target qubits, the pulse strength and the time sequence $t$. The evolution is given by:\n",
    "\n",
    "$$\n",
    "U(t) = \\exp\\left( -i \\sum_j c_j\\left(t\\right) H_j t \\right)\n",
    "$$\n",
    "\n",
    "Here we define a single-qubit quantum device with $\\sigma_z$ and $\\sigma_y$ pulses:"
   ]
  },
  {
   "cell_type": "code",
   "execution_count": 2,
   "metadata": {},
   "outputs": [],
   "source": [
    "processor = Processor(N=1)\n",
    "processor.add_control(0.5 * sigmaz(), targets=0, label='sigmaz')\n",
    "processor.add_control(0.5 * sigmay(), targets=0, label='sigmay')"
   ]
  },
  {
   "cell_type": "markdown",
   "metadata": {},
   "source": [
    "The list of defined pulses are saved in the `.pulses` attribute:"
   ]
  },
  {
   "cell_type": "code",
   "execution_count": 3,
   "metadata": {},
   "outputs": [
    {
     "name": "stdout",
     "output_type": "stream",
     "text": [
      "----------------------------------------------------------------------\n",
      "Pulse label: sigmaz\n",
      "The pulse contains: 0 coherent noise elements and 0 Lindblad noise elements.\n",
      "\n",
      "Ideal pulse:\n",
      "{'qobj': Quantum object: dims = [[2], [2]], shape = (2, 2), type = oper, isherm = True\n",
      "Qobj data =\n",
      "[[ 0.5  0. ]\n",
      " [ 0.  -0.5]], 'targets': [0], 'tlist': None, 'coeff': None}\n",
      "----------------------------------------------------------------------\n",
      "----------------------------------------------------------------------\n",
      "Pulse label: sigmay\n",
      "The pulse contains: 0 coherent noise elements and 0 Lindblad noise elements.\n",
      "\n",
      "Ideal pulse:\n",
      "{'qobj': Quantum object: dims = [[2], [2]], shape = (2, 2), type = oper, isherm = True\n",
      "Qobj data =\n",
      "[[0.+0.j  0.-0.5j]\n",
      " [0.+0.5j 0.+0.j ]], 'targets': [0], 'tlist': None, 'coeff': None}\n",
      "----------------------------------------------------------------------\n"
     ]
    }
   ],
   "source": [
    "for pulse in processor.pulses:\n",
    "    pulse.print_info()"
   ]
  },
  {
   "cell_type": "markdown",
   "metadata": {},
   "source": [
    "To characterize evolution we need to define the `tlist` and `coeff` terms. These are given as NumPy arrays. `tlist` specifies the start and end for each pulse coefficient (for discrete pulses), so it is one element longer than `coeff`.\n",
    "\n",
    "Let's turn on the $\\sigma_y$ pulse for $t = \\pi$ with strength 1.\n",
    "\n",
    "(Notice $H = \\frac{1}{2} \\sigma_z$ ??)"
   ]
  },
  {
   "cell_type": "code",
   "execution_count": 4,
   "metadata": {},
   "outputs": [
    {
     "name": "stdout",
     "output_type": "stream",
     "text": [
      "----------------------------------------------------------------------\n",
      "Pulse label: sigmaz\n",
      "The pulse contains: 0 coherent noise elements and 0 Lindblad noise elements.\n",
      "\n",
      "Ideal pulse:\n",
      "{'qobj': Quantum object: dims = [[2], [2]], shape = (2, 2), type = oper, isherm = True\n",
      "Qobj data =\n",
      "[[ 0.5  0. ]\n",
      " [ 0.  -0.5]], 'targets': [0], 'tlist': None, 'coeff': None}\n",
      "----------------------------------------------------------------------\n",
      "----------------------------------------------------------------------\n",
      "Pulse label: sigmay\n",
      "The pulse contains: 0 coherent noise elements and 0 Lindblad noise elements.\n",
      "\n",
      "Ideal pulse:\n",
      "{'qobj': Quantum object: dims = [[2], [2]], shape = (2, 2), type = oper, isherm = True\n",
      "Qobj data =\n",
      "[[0.+0.j  0.-0.5j]\n",
      " [0.+0.5j 0.+0.j ]], 'targets': [0], 'tlist': array([0.        , 3.14159265]), 'coeff': array([1.])}\n",
      "----------------------------------------------------------------------\n"
     ]
    }
   ],
   "source": [
    "processor.pulses[1].coeff = np.array([1.])\n",
    "processor.pulses[1].tlist = np.array([0., pi])\n",
    "for pulse in processor.pulses:\n",
    "    pulse.print_info()"
   ]
  },
  {
   "cell_type": "markdown",
   "metadata": {},
   "source": [
    "This pulse is a $\\pi$ pulse that flips the qubit from $|0\\rangle$ to $|1\\rangle$, equivalent to a rotation around the $y$-axis of $\\pi$.\n",
    "\n",
    "$$\n",
    "R_y\\left(\\theta\\right) = \\begin{pmatrix} \\cos \\theta/2 & -\\sin \\theta / 2 \\\\ \\sin \\theta / 2 & \\cos \\theta / 2 \\end{pmatrix}\n",
    "$$\n",
    "\n",
    "We may run the simulation to see the result of the evolution starting in $|0\\rangle$:"
   ]
  },
  {
   "cell_type": "code",
   "execution_count": 5,
   "metadata": {},
   "outputs": [],
   "source": [
    "basis0 = basis(2, 0)\n",
    "result = processor.run_state(init_state=basis0)"
   ]
  },
  {
   "cell_type": "code",
   "execution_count": 6,
   "metadata": {},
   "outputs": [
    {
     "data": {
      "text/latex": [
       "Quantum object: dims = [[2], [1]], shape = (2, 1), type = ket\\begin{equation*}\\left(\\begin{array}{*{11}c}0.0\\\\1.000\\\\\\end{array}\\right)\\end{equation*}"
      ],
      "text/plain": [
       "Quantum object: dims = [[2], [1]], shape = (2, 1), type = ket\n",
       "Qobj data =\n",
       "[[0.]\n",
       " [1.]]"
      ]
     },
     "execution_count": 6,
     "metadata": {},
     "output_type": "execute_result"
    }
   ],
   "source": [
    "result.states[-1].tidyup(1.e-5)"
   ]
  },
  {
   "cell_type": "code",
   "execution_count": 7,
   "metadata": {},
   "outputs": [
    {
     "data": {
      "text/latex": [
       "Quantum object: dims = [[2], [1]], shape = (2, 1), type = ket\\begin{equation*}\\left(\\begin{array}{*{11}c}1.0\\\\0.0\\\\\\end{array}\\right)\\end{equation*}"
      ],
      "text/plain": [
       "Quantum object: dims = [[2], [1]], shape = (2, 1), type = ket\n",
       "Qobj data =\n",
       "[[1.]\n",
       " [0.]]"
      ]
     },
     "execution_count": 7,
     "metadata": {},
     "output_type": "execute_result"
    }
   ],
   "source": [
    "basis0"
   ]
  },
  {
   "cell_type": "markdown",
   "metadata": {},
   "source": [
    "Testing a different set of pulses..."
   ]
  },
  {
   "cell_type": "code",
   "execution_count": 8,
   "metadata": {},
   "outputs": [
    {
     "data": {
      "text/latex": [
       "Quantum object: dims = [[2], [1]], shape = (2, 1), type = ket\\begin{equation*}\\left(\\begin{array}{*{11}c}0.707\\\\0.707\\\\\\end{array}\\right)\\end{equation*}"
      ],
      "text/plain": [
       "Quantum object: dims = [[2], [1]], shape = (2, 1), type = ket\n",
       "Qobj data =\n",
       "[[0.70710797]\n",
       " [0.70710559]]"
      ]
     },
     "execution_count": 8,
     "metadata": {},
     "output_type": "execute_result"
    }
   ],
   "source": [
    "processor.pulses[1].coeff = np.array([1.])\n",
    "processor.pulses[1].tlist = np.array([0., pi / 2])\n",
    "result = processor.run_state(init_state=basis0)\n",
    "result.states[-1].tidyup(1.e-5)"
   ]
  },
  {
   "cell_type": "code",
   "execution_count": 9,
   "metadata": {},
   "outputs": [
    {
     "data": {
      "text/latex": [
       "Quantum object: dims = [[2], [1]], shape = (2, 1), type = ket\\begin{equation*}\\left(\\begin{array}{*{11}c}0.707\\\\0.707\\\\\\end{array}\\right)\\end{equation*}"
      ],
      "text/plain": [
       "Quantum object: dims = [[2], [1]], shape = (2, 1), type = ket\n",
       "Qobj data =\n",
       "[[0.70710797]\n",
       " [0.70710559]]"
      ]
     },
     "execution_count": 9,
     "metadata": {},
     "output_type": "execute_result"
    }
   ],
   "source": [
    "processor.pulses[1].coeff = np.array([.5])\n",
    "processor.pulses[1].tlist = np.array([0., pi])\n",
    "result = processor.run_state(init_state=basis0)\n",
    "result.states[-1].tidyup(1.e-5)"
   ]
  },
  {
   "cell_type": "code",
   "execution_count": 10,
   "metadata": {},
   "outputs": [
    {
     "data": {
      "text/latex": [
       "Quantum object: dims = [[2], [1]], shape = (2, 1), type = ket\\begin{equation*}\\left(\\begin{array}{*{11}c}0.924\\\\0.383\\\\\\end{array}\\right)\\end{equation*}"
      ],
      "text/plain": [
       "Quantum object: dims = [[2], [1]], shape = (2, 1), type = ket\n",
       "Qobj data =\n",
       "[[0.92387955]\n",
       " [0.38268338]]"
      ]
     },
     "execution_count": 10,
     "metadata": {},
     "output_type": "execute_result"
    }
   ],
   "source": [
    "processor.pulses[1].coeff = np.array([.5])\n",
    "processor.pulses[1].tlist = np.array([0., pi / 2])\n",
    "result = processor.run_state(init_state=basis0)\n",
    "result.states[-1].tidyup(1.e-5)"
   ]
  },
  {
   "cell_type": "code",
   "execution_count": 11,
   "metadata": {},
   "outputs": [
    {
     "data": {
      "text/latex": [
       "Quantum object: dims = [[2], [1]], shape = (2, 1), type = ket\\begin{equation*}\\left(\\begin{array}{*{11}c}0.0\\\\1.000\\\\\\end{array}\\right)\\end{equation*}"
      ],
      "text/plain": [
       "Quantum object: dims = [[2], [1]], shape = (2, 1), type = ket\n",
       "Qobj data =\n",
       "[[0.]\n",
       " [1.]]"
      ]
     },
     "execution_count": 11,
     "metadata": {},
     "output_type": "execute_result"
    }
   ],
   "source": [
    "processor.pulses[1].coeff = np.array([.5])\n",
    "processor.pulses[1].tlist = np.array([0., 2 * pi])\n",
    "result = processor.run_state(init_state=basis0)\n",
    "result.states[-1].tidyup(1.e-5)"
   ]
  },
  {
   "cell_type": "markdown",
   "metadata": {},
   "source": [
    "Any single qubit gate may be decomposed into $R_z(\\theta_1) \\cdot R_y(\\theta_2) \\cdot R_z(\\theta_3)$, so it is sufficient to use three pulses. For example:"
   ]
  },
  {
   "cell_type": "code",
   "execution_count": 12,
   "metadata": {},
   "outputs": [],
   "source": [
    "processor.pulses[0].coeff = np.array([1., 0., 1.])\n",
    "processor.pulses[1].coeff = np.array([0., 1., 0.])\n",
    "processor.pulses[0].tlist = np.array([0., pi/2., 2*pi/2., 3*pi/2.])\n",
    "processor.pulses[1].tlist = np.array([0., pi/2., 2*pi/2., 3*pi/2.])"
   ]
  },
  {
   "cell_type": "code",
   "execution_count": 13,
   "metadata": {},
   "outputs": [
    {
     "data": {
      "text/latex": [
       "Quantum object: dims = [[2], [1]], shape = (2, 1), type = ket\\begin{equation*}\\left(\\begin{array}{*{11}c}-0.707\\\\0.707j\\\\\\end{array}\\right)\\end{equation*}"
      ],
      "text/plain": [
       "Quantum object: dims = [[2], [1]], shape = (2, 1), type = ket\n",
       "Qobj data =\n",
       "[[-0.7071043+0.j        ]\n",
       " [ 0.       +0.70710926j]]"
      ]
     },
     "execution_count": 13,
     "metadata": {},
     "output_type": "execute_result"
    }
   ],
   "source": [
    "result = processor.run_state(init_state=basis(2, 1))\n",
    "result.states[-1].tidyup(1.0e-5)"
   ]
  },
  {
   "cell_type": "markdown",
   "metadata": {},
   "source": [
    "### Pulse with continuous amplitude"
   ]
  },
  {
   "cell_type": "markdown",
   "metadata": {},
   "source": [
    "If the pulse strength is generated elsewhere and is a discretization of a continuous function, we can tell the `Processor` to use them with cubic spline interpolation. In this case, `tlist` and `coeff` must have the same length."
   ]
  },
  {
   "cell_type": "code",
   "execution_count": 14,
   "metadata": {},
   "outputs": [
    {
     "data": {
      "text/plain": [
       "(<Figure size 432x288 with 1 Axes>,\n",
       " <matplotlib.axes._subplots.AxesSubplot at 0x7fd848597510>)"
      ]
     },
     "execution_count": 14,
     "metadata": {},
     "output_type": "execute_result"
    },
    {
     "data": {
      "image/png": "[encoded data removed]",
      "text/plain": [
       "<Figure size 432x288 with 1 Axes>"
      ]
     },
     "metadata": {
      "needs_background": "light"
     },
     "output_type": "display_data"
    }
   ],
   "source": [
    "tlist = np.linspace(0., 2 * pi, 20)\n",
    "processor = Processor(N=1, spline_kind='step_func')\n",
    "processor.add_control(sigmaz(), 0)\n",
    "processor.pulses[0].tlist = tlist\n",
    "processor.pulses[0].coeff = np.array([np.sin(t) for t in tlist])\n",
    "processor.plot_pulses()"
   ]
  },
  {
   "cell_type": "code",
   "execution_count": 15,
   "metadata": {},
   "outputs": [
    {
     "data": {
      "text/plain": [
       "(<Figure size 432x288 with 1 Axes>,\n",
       " <matplotlib.axes._subplots.AxesSubplot at 0x7fd8289f6d10>)"
      ]
     },
     "execution_count": 15,
     "metadata": {},
     "output_type": "execute_result"
    },
    {
     "data": {
      "image/png": "[encoded data removed]",
      "text/plain": [
       "<Figure size 432x288 with 1 Axes>"
      ]
     },
     "metadata": {
      "needs_background": "light"
     },
     "output_type": "display_data"
    }
   ],
   "source": [
    "tlist = np.linspace(0., 2 * pi, 20)\n",
    "processor = Processor(N=1, spline_kind='cubic')\n",
    "processor.add_control(sigmaz(), 0)\n",
    "processor.pulses[0].tlist = tlist\n",
    "processor.pulses[0].coeff = np.array([np.sin(t) for t in tlist])\n",
    "processor.plot_pulses()"
   ]
  },
  {
   "cell_type": "markdown",
   "metadata": {},
   "source": [
    "## Noisy evolution"
   ]
  },
  {
   "cell_type": "markdown",
   "metadata": {},
   "source": [
    "Generally, there are two types of noise - coherent and incoherent. The former usually comes from deviations in the control pulse. This sort of noisy evolution is still unitary. Incoherent noise comes from coupling to the environment and leads to true information loss. In QIS theory, we describe this sort of noise with a \"noisy channel,\" corresponding to the collapse operators in the Lindblad equation."
   ]
  },
  {
   "cell_type": "markdown",
   "metadata": {},
   "source": [
    "The `Processor` simulates the evolution of qubits under the driving Hamiltonian and noise will be defined according to the control pulses, with evolution computed using the QuTiP solvers. This enables a complex noise description (including, e.g. cross-talk and leakages). This simulation can help identify dominant noise sources and is useful for studying algorithm sensitivity to noise."
   ]
  },
  {
   "cell_type": "markdown",
   "metadata": {},
   "source": [
    "### Decoherence"
   ]
  },
  {
   "cell_type": "markdown",
   "metadata": {},
   "source": [
    "Decoherence is simulated in the `Processor` by adding a collapse operator into the Lindbladian equation. For single-qubit decoherence it is equivalent to applying random flip and phase flip errors after applying the quantum gate. For qubit relaxation, one can specify the $t_1$ and $t_2$ time for the device for each qubit. For example, with a drift Hamiltonian of $H_d = \\hbar \\omega \\sigma_z$ with $\\hbar \\omega = 10$:"
   ]
  },
  {
   "cell_type": "code",
   "execution_count": 25,
   "metadata": {},
   "outputs": [],
   "source": [
    "a = destroy(2)\n",
    "initial_state = basis(2, 1)\n",
    "plus_state = (basis(2, 1) + basis(2, 0)).unit()\n",
    "tlist = np.arange(0.0, 2.02, 0.02)\n",
    "H_d = 10. * sigmaz()   # don't use this for anything here?"
   ]
  },
  {
   "cell_type": "markdown",
   "metadata": {},
   "source": [
    "#### Decay time $T_1$"
   ]
  },
  {
   "cell_type": "markdown",
   "metadata": {},
   "source": [
    "The $T_1$ relaxation time describes the amplitude damping strength. In a two-level system we use a collapse operator $\\frac{1}{\\sqrt{T_1}} a$, where $a$ is the annihilation operator.\n",
    "\n",
    "This leads to exponential decay of the population of excited states proportional to $\\exp(-t / T_1)$."
   ]
  },
  {
   "cell_type": "code",
   "execution_count": 26,
   "metadata": {},
   "outputs": [],
   "source": [
    "from qutip.qip.pulse import Pulse"
   ]
  },
  {
   "cell_type": "code",
   "execution_count": 27,
   "metadata": {},
   "outputs": [],
   "source": [
    "t1 = 1.\n",
    "processor = Processor(1, t1=t1)\n",
    "# dummy pulse with no Hamiltonian but only a tlist\n",
    "processor.add_pulse(Pulse(None, None, tlist=tlist, coeff=False))"
   ]
  },
  {
   "cell_type": "code",
   "execution_count": 28,
   "metadata": {},
   "outputs": [
    {
     "data": {
      "text/latex": [
       "Quantum object: dims = [[2], [1]], shape = (2, 1), type = ket\\begin{equation*}\\left(\\begin{array}{*{11}c}0.0\\\\1.0\\\\\\end{array}\\right)\\end{equation*}"
      ],
      "text/plain": [
       "Quantum object: dims = [[2], [1]], shape = (2, 1), type = ket\n",
       "Qobj data =\n",
       "[[0.]\n",
       " [1.]]"
      ]
     },
     "execution_count": 28,
     "metadata": {},
     "output_type": "execute_result"
    }
   ],
   "source": [
    "initial_state"
   ]
  },
  {
   "cell_type": "code",
   "execution_count": 29,
   "metadata": {},
   "outputs": [
    {
     "data": {
      "text/latex": [
       "Quantum object: dims = [[2], [2]], shape = (2, 2), type = oper, isherm = True\\begin{equation*}\\left(\\begin{array}{*{11}c}0.0 & 0.0\\\\0.0 & 1.0\\\\\\end{array}\\right)\\end{equation*}"
      ],
      "text/plain": [
       "Quantum object: dims = [[2], [2]], shape = (2, 2), type = oper, isherm = True\n",
       "Qobj data =\n",
       "[[0. 0.]\n",
       " [0. 1.]]"
      ]
     },
     "execution_count": 29,
     "metadata": {},
     "output_type": "execute_result"
    }
   ],
   "source": [
    "a.dag() * a"
   ]
  },
  {
   "cell_type": "code",
   "execution_count": 30,
   "metadata": {},
   "outputs": [
    {
     "data": {
      "text/latex": [
       "Quantum object: dims = [[2], [1]], shape = (2, 1), type = ket\\begin{equation*}\\left(\\begin{array}{*{11}c}0.0\\\\1.0\\\\\\end{array}\\right)\\end{equation*}"
      ],
      "text/plain": [
       "Quantum object: dims = [[2], [1]], shape = (2, 1), type = ket\n",
       "Qobj data =\n",
       "[[0.]\n",
       " [1.]]"
      ]
     },
     "execution_count": 30,
     "metadata": {},
     "output_type": "execute_result"
    }
   ],
   "source": [
    "a.dag() * a * initial_state"
   ]
  },
  {
   "cell_type": "code",
   "execution_count": 31,
   "metadata": {},
   "outputs": [
    {
     "data": {
      "text/latex": [
       "Quantum object: dims = [[2], [1]], shape = (2, 1), type = ket\\begin{equation*}\\left(\\begin{array}{*{11}c}0.0\\\\0.0\\\\\\end{array}\\right)\\end{equation*}"
      ],
      "text/plain": [
       "Quantum object: dims = [[2], [1]], shape = (2, 1), type = ket\n",
       "Qobj data =\n",
       "[[0.]\n",
       " [0.]]"
      ]
     },
     "execution_count": 31,
     "metadata": {},
     "output_type": "execute_result"
    }
   ],
   "source": [
    "a.dag() * a * basis(2, 0)"
   ]
  },
  {
   "cell_type": "code",
   "execution_count": 32,
   "metadata": {},
   "outputs": [],
   "source": [
    "result = processor.run_state(init_state=initial_state,\n",
    "                            e_ops=[a.dag() * a])"
   ]
  },
  {
   "cell_type": "code",
   "execution_count": 33,
   "metadata": {},
   "outputs": [
    {
     "data": {
      "image/png": "[encoded data removed]",
      "text/plain": [
       "<Figure size 432x288 with 1 Axes>"
      ]
     },
     "metadata": {
      "needs_background": "light"
     },
     "output_type": "display_data"
    }
   ],
   "source": [
    "fig, ax = plt.subplots()\n",
    "ax.plot(tlist[0: 100: 10],\n",
    "        result.expect[0][0: 100: 10],\n",
    "        'o', label='simulation')\n",
    "ax.plot(tlist, np.exp(-1. / t1 * tlist), label='theory')\n",
    "ax.set_xlabel('t')\n",
    "ax.set_ylabel('excited state population')\n",
    "ax.legend()\n",
    "plt.grid()"
   ]
  },
  {
   "cell_type": "markdown",
   "metadata": {},
   "source": [
    "#### Decay time $T_2$"
   ]
  },
  {
   "cell_type": "markdown",
   "metadata": {},
   "source": [
    "$T_2$ describes the dephasing process. We must be careful that the amplitdue damping channel characterized by $T_1$ will also lead to a dephasing proportional to $\\exp(-t / 2 T_1)$. To ensure the overall phase damping is $\\exp(-t / T_2)$, the processor uses a collapse operator $\\frac{1}{2 T_{2}'} \\sigma_z$ with \n",
    "\n",
    "$$\n",
    "\\frac{1}{T_{2}} = \\frac{1}{T_{2}'} + \\frac{1}{2 T_1}\n",
    "$$\n",
    "\n",
    "to simulate dephasing. This implies $T_2 \\leq 2 T_1$."
   ]
  },
  {
   "cell_type": "markdown",
   "metadata": {},
   "source": [
    "$T_2$ is usually measured by the Ramsey experiment, where the qubit starts in the excited state, undergoes a $\\pi / 2$ pulse, proceeds for a time $t$, and is then measured after another $\\pi / 2$ pulse. For simplicity, here we directly calculate the expectaion value of $H \\cdot a^{\\dagger}a \\cdot H$, where $H$ denotes the Hadamard. This is the same as a measure of the population $\\frac{1}{\\sqrt{2}} \\left(|0\\rangle + |1\\rangle \\right)$.\n",
    "\n",
    "The envelope should follow an expontential decay characterized by $T_2$:"
   ]
  },
  {
   "cell_type": "code",
   "execution_count": 34,
   "metadata": {},
   "outputs": [
    {
     "data": {
      "text/latex": [
       "Quantum object: dims = [[2], [2]], shape = (2, 2), type = oper, isherm = True\\begin{equation*}\\left(\\begin{array}{*{11}c}10.0 & 0.0\\\\0.0 & -10.0\\\\\\end{array}\\right)\\end{equation*}"
      ],
      "text/plain": [
       "Quantum object: dims = [[2], [2]], shape = (2, 2), type = oper, isherm = True\n",
       "Qobj data =\n",
       "[[ 10.   0.]\n",
       " [  0. -10.]]"
      ]
     },
     "execution_count": 34,
     "metadata": {},
     "output_type": "execute_result"
    }
   ],
   "source": [
    "H_d   # 10 * sigmaz"
   ]
  },
  {
   "cell_type": "code",
   "execution_count": 35,
   "metadata": {},
   "outputs": [],
   "source": [
    "t1 = 1.\n",
    "t2 = 0.5\n",
    "processor = Processor(1, t1=t1, t2=t2)\n",
    "processor.add_control(H_d, 0)\n",
    "processor.pulses[0].coeff = True\n",
    "processor.pulses[0].tlist = tlist\n",
    "Hadamard = hadamard_transform(1)\n",
    "result = processor.run_state(init_state=plus_state,\n",
    "                            e_ops=[Hadamard * a.dag() * a * Hadamard])"
   ]
  },
  {
   "cell_type": "code",
   "execution_count": 36,
   "metadata": {},
   "outputs": [
    {
     "data": {
      "image/png": "[encoded data removed]",
      "text/plain": [
       "<Figure size 432x288 with 1 Axes>"
      ]
     },
     "metadata": {
      "needs_background": "light"
     },
     "output_type": "display_data"
    }
   ],
   "source": [
    "fig, ax = plt.subplots()\n",
    "ax.plot(tlist[:-1], result.expect[0][:-1], '.',\n",
    "        label='simulation')\n",
    "ax.plot(tlist[:-1], np.exp(-1./t2*tlist[:-1]) * 0.5 + 0.5,\n",
    "        label='theory')\n",
    "plt.xlabel('t')\n",
    "plt.ylabel('Ramsey signal')\n",
    "plt.legend()\n",
    "ax.grid()"
   ]
  },
  {
   "cell_type": "markdown",
   "metadata": {},
   "source": [
    "### Random noise in the pulse intensity"
   ]
  },
  {
   "cell_type": "markdown",
   "metadata": {},
   "source": [
    "`Processor` can also simulate coherent control noise. One may define a noise object and add it to the processor to simulate general types of noise. One example of predefined noise is random amplitude noise, where random values are added the pulse every `dt`. `loc` and `scale` are keyword arguments for the random number generator (`np.random.normal`)."
   ]
  },
  {
   "cell_type": "code",
   "execution_count": 37,
   "metadata": {},
   "outputs": [],
   "source": [
    "from qutip.qip.noise import RandomNoise"
   ]
  },
  {
   "cell_type": "code",
   "execution_count": 38,
   "metadata": {},
   "outputs": [],
   "source": [
    "processor = Processor(N=1)\n",
    "processor.add_control(0.5 * sigmaz(), targets=0, label='sigmaz')\n",
    "processor.add_control(0.5 * sigmay(), targets=0, label='sigmay')\n",
    "processor.coeffs = np.array([[1., 0., 1.],\n",
    "                             [0., 1., 0.]])\n",
    "processor.set_all_tlist(np.array([0., pi / 2, 2 * pi / 2, 3 * pi / 2]))\n",
    "processor_white = copy.deepcopy(processor)\n",
    "processor_white.add_noise(RandomNoise(rand_gen=np.random.normal, \n",
    "                                      dt=0.1, \n",
    "                                      loc=-0.05,\n",
    "                                      scale=0.02))"
   ]
  },
  {
   "cell_type": "markdown",
   "metadata": {},
   "source": [
    "Compare with and without noise:"
   ]
  },
  {
   "cell_type": "code",
   "execution_count": 39,
   "metadata": {},
   "outputs": [
    {
     "data": {
      "text/latex": [
       "Quantum object: dims = [[2], [1]], shape = (2, 1), type = ket\\begin{equation*}\\left(\\begin{array}{*{11}c}-0.707\\\\0.707j\\\\\\end{array}\\right)\\end{equation*}"
      ],
      "text/plain": [
       "Quantum object: dims = [[2], [1]], shape = (2, 1), type = ket\n",
       "Qobj data =\n",
       "[[-0.7071043+0.j        ]\n",
       " [ 0.       +0.70710926j]]"
      ]
     },
     "execution_count": 39,
     "metadata": {},
     "output_type": "execute_result"
    }
   ],
   "source": [
    "result = processor.run_state(init_state=basis(2, 1))\n",
    "result.states[-1].tidyup(1.0e-5)"
   ]
  },
  {
   "cell_type": "code",
   "execution_count": 40,
   "metadata": {},
   "outputs": [
    {
     "data": {
      "text/latex": [
       "Quantum object: dims = [[2], [1]], shape = (2, 1), type = ket\\begin{equation*}\\left(\\begin{array}{*{11}c}(-0.634+0.003j)\\\\(0.124+0.763j)\\\\\\end{array}\\right)\\end{equation*}"
      ],
      "text/plain": [
       "Quantum object: dims = [[2], [1]], shape = (2, 1), type = ket\n",
       "Qobj data =\n",
       "[[-0.63432494+0.00337478j]\n",
       " [ 0.12417874+0.7630204j ]]"
      ]
     },
     "execution_count": 40,
     "metadata": {},
     "output_type": "execute_result"
    }
   ],
   "source": [
    "result_white = processor_white.run_state(init_state=basis(2, 1))\n",
    "result_white.states[-1].tidyup(1.0e-4)"
   ]
  },
  {
   "cell_type": "code",
   "execution_count": 41,
   "metadata": {},
   "outputs": [
    {
     "data": {
      "text/plain": [
       "0.99218074290591"
      ]
     },
     "execution_count": 41,
     "metadata": {},
     "output_type": "execute_result"
    }
   ],
   "source": [
    "fidelity(result.states[-1], result_white.states[-1])"
   ]
  },
  {
   "cell_type": "markdown",
   "metadata": {},
   "source": [
    "Since the result of this noise is still a pure we state, we can visualize it on the Bloch sphere:"
   ]
  },
  {
   "cell_type": "code",
   "execution_count": 42,
   "metadata": {},
   "outputs": [],
   "source": [
    "from qutip.bloch import Bloch"
   ]
  },
  {
   "cell_type": "code",
   "execution_count": 43,
   "metadata": {},
   "outputs": [
    {
     "data": {
      "image/png": "[encoded data removed]",
      "text/plain": [
       "<Figure size 360x360 with 1 Axes>"
      ]
     },
     "metadata": {},
     "output_type": "display_data"
    }
   ],
   "source": [
    "b = Bloch()\n",
    "b.add_states([result.states[-1], result_white.states[-1]])\n",
    "b.make_sphere()"
   ]
  },
  {
   "cell_type": "markdown",
   "metadata": {},
   "source": [
    "We can print the pulses to see the noise. First, the ideal:"
   ]
  },
  {
   "cell_type": "code",
   "execution_count": 44,
   "metadata": {},
   "outputs": [
    {
     "name": "stdout",
     "output_type": "stream",
     "text": [
      "----------------------------------------------------------------------\n",
      "Pulse label: sigmaz\n",
      "The pulse contains: 0 coherent noise elements and 0 Lindblad noise elements.\n",
      "\n",
      "Ideal pulse:\n",
      "{'qobj': Quantum object: dims = [[2], [2]], shape = (2, 2), type = oper, isherm = True\n",
      "Qobj data =\n",
      "[[ 0.5  0. ]\n",
      " [ 0.  -0.5]], 'targets': [0], 'tlist': array([0.        , 1.57079633, 3.14159265, 4.71238898]), 'coeff': array([1., 0., 1.])}\n",
      "----------------------------------------------------------------------\n",
      "----------------------------------------------------------------------\n",
      "Pulse label: sigmay\n",
      "The pulse contains: 0 coherent noise elements and 0 Lindblad noise elements.\n",
      "\n",
      "Ideal pulse:\n",
      "{'qobj': Quantum object: dims = [[2], [2]], shape = (2, 2), type = oper, isherm = True\n",
      "Qobj data =\n",
      "[[0.+0.j  0.-0.5j]\n",
      " [0.+0.5j 0.+0.j ]], 'targets': [0], 'tlist': array([0.        , 1.57079633, 3.14159265, 4.71238898]), 'coeff': array([0., 1., 0.])}\n",
      "----------------------------------------------------------------------\n"
     ]
    }
   ],
   "source": [
    "for pulse in processor_white.pulses:\n",
    "    pulse.print_info()"
   ]
  },
  {
   "cell_type": "markdown",
   "metadata": {},
   "source": [
    "Now, the noisy:"
   ]
  },
  {
   "cell_type": "code",
   "execution_count": 45,
   "metadata": {},
   "outputs": [
    {
     "name": "stdout",
     "output_type": "stream",
     "text": [
      "----------------------------------------------------------------------\n",
      "Pulse label: sigmaz\n",
      "The pulse contains: 1 coherent noise elements and 0 Lindblad noise elements.\n",
      "\n",
      "Ideal pulse:\n",
      "{'qobj': Quantum object: dims = [[2], [2]], shape = (2, 2), type = oper, isherm = True\n",
      "Qobj data =\n",
      "[[ 0.5  0. ]\n",
      " [ 0.  -0.5]], 'targets': [0], 'tlist': array([0.        , 1.57079633, 3.14159265, 4.71238898]), 'coeff': array([1., 0., 1.])}\n",
      "\n",
      "Coherent noise:\n",
      "{'qobj': Quantum object: dims = [[2], [2]], shape = (2, 2), type = oper, isherm = True\n",
      "Qobj data =\n",
      "[[ 0.5  0. ]\n",
      " [ 0.  -0.5]], 'targets': [0], 'tlist': array([0. , 0.1, 0.2, 0.3, 0.4, 0.5, 0.6, 0.7, 0.8, 0.9, 1. , 1.1, 1.2,\n",
      "       1.3, 1.4, 1.5, 1.6, 1.7, 1.8, 1.9, 2. , 2.1, 2.2, 2.3, 2.4, 2.5,\n",
      "       2.6, 2.7, 2.8, 2.9, 3. , 3.1, 3.2, 3.3, 3.4, 3.5, 3.6, 3.7, 3.8,\n",
      "       3.9, 4. , 4.1, 4.2, 4.3, 4.4, 4.5, 4.6, 4.7]), 'coeff': array([-0.03100122, -0.04205694, -0.04640997, -0.04568998, -0.04128108,\n",
      "       -0.07032925, -0.04593738, -0.08644839, -0.05125383, -0.02621372,\n",
      "       -0.04581887, -0.04554067, -0.06775847, -0.05514877, -0.06769209,\n",
      "       -0.04077818, -0.02140568, -0.07095284, -0.0120102 , -0.04492311,\n",
      "       -0.08647522, -0.0372317 , -0.04580141, -0.04665908, -0.07025257,\n",
      "       -0.04690278, -0.06011422, -0.08419492, -0.07878995, -0.0872178 ,\n",
      "       -0.05148584, -0.04590839, -0.06958554, -0.05503408, -0.03020901,\n",
      "       -0.08147783, -0.06324339, -0.03689207, -0.08169073, -0.075593  ,\n",
      "       -0.03743032, -0.0594487 , -0.05530211, -0.0512242 , -0.06719608,\n",
      "       -0.06533649, -0.02170158, -0.10144443])}\n",
      "----------------------------------------------------------------------\n",
      "----------------------------------------------------------------------\n",
      "Pulse label: sigmay\n",
      "The pulse contains: 1 coherent noise elements and 0 Lindblad noise elements.\n",
      "\n",
      "Ideal pulse:\n",
      "{'qobj': Quantum object: dims = [[2], [2]], shape = (2, 2), type = oper, isherm = True\n",
      "Qobj data =\n",
      "[[0.+0.j  0.-0.5j]\n",
      " [0.+0.5j 0.+0.j ]], 'targets': [0], 'tlist': array([0.        , 1.57079633, 3.14159265, 4.71238898]), 'coeff': array([0., 1., 0.])}\n",
      "\n",
      "Coherent noise:\n",
      "{'qobj': Quantum object: dims = [[2], [2]], shape = (2, 2), type = oper, isherm = True\n",
      "Qobj data =\n",
      "[[0.+0.j  0.-0.5j]\n",
      " [0.+0.5j 0.+0.j ]], 'targets': [0], 'tlist': array([0. , 0.1, 0.2, 0.3, 0.4, 0.5, 0.6, 0.7, 0.8, 0.9, 1. , 1.1, 1.2,\n",
      "       1.3, 1.4, 1.5, 1.6, 1.7, 1.8, 1.9, 2. , 2.1, 2.2, 2.3, 2.4, 2.5,\n",
      "       2.6, 2.7, 2.8, 2.9, 3. , 3.1, 3.2, 3.3, 3.4, 3.5, 3.6, 3.7, 3.8,\n",
      "       3.9, 4. , 4.1, 4.2, 4.3, 4.4, 4.5, 4.6, 4.7]), 'coeff': array([-0.03907686, -0.05827416, -0.04858611, -0.0065747 , -0.0706027 ,\n",
      "       -0.07532621, -0.05353682, -0.01487445, -0.0458903 , -0.02988979,\n",
      "       -0.06542917, -0.0783681 , -0.03125771, -0.05597491, -0.0493633 ,\n",
      "       -0.03140756, -0.09455346, -0.04419213, -0.06579456, -0.042427  ,\n",
      "       -0.04141448, -0.04859465, -0.02361562, -0.05415331, -0.08025314,\n",
      "       -0.06745224, -0.0329318 , -0.06786928, -0.06494798, -0.03372789,\n",
      "       -0.07542405, -0.03353774, -0.05877639, -0.03721118, -0.014582  ,\n",
      "       -0.05394682, -0.08637379, -0.02938354, -0.03674491, -0.01892072,\n",
      "       -0.03313962, -0.0225257 , -0.05876533, -0.07273346, -0.04404917,\n",
      "       -0.05420245, -0.05885005, -0.05999682])}\n",
      "----------------------------------------------------------------------\n"
     ]
    }
   ],
   "source": [
    "for pulse in processor_white.get_noisy_pulses():\n",
    "    pulse.print_info()"
   ]
  },
  {
   "cell_type": "markdown",
   "metadata": {},
   "source": [
    "## Getting a `Pulse` or `QobjEvo` representation"
   ]
  },
  {
   "cell_type": "markdown",
   "metadata": {},
   "source": [
    "If we define a complicated `Processor`, but don't want to run the simulation right now, we can extract an ideal/noisy `Pulse` representation or `QobjEvo` representation. The latter one can be fed directly to QuTiP's solver to compute the evolution:"
   ]
  },
  {
   "cell_type": "code",
   "execution_count": 46,
   "metadata": {},
   "outputs": [],
   "source": [
    "ideal_pulses = processor_white.pulses\n",
    "noisy_pulses = processor_white.get_noisy_pulses(\n",
    "    device_noise=True, drift=True)"
   ]
  },
  {
   "cell_type": "code",
   "execution_count": 47,
   "metadata": {},
   "outputs": [],
   "source": [
    "qobjevo = processor_white.get_qobjevo(noisy=False)\n",
    "noisy_qobjevo, c_ops = processor_white.get_qobjevo(noisy=True)"
   ]
  },
  {
   "cell_type": "code",
   "execution_count": 48,
   "metadata": {},
   "outputs": [
    {
     "data": {
      "text/plain": [
       "(<qutip.qobjevo.QobjEvo at 0x7fd848a5bc50>, [])"
      ]
     },
     "execution_count": 48,
     "metadata": {},
     "output_type": "execute_result"
    }
   ],
   "source": [
    "qobjevo"
   ]
  },
  {
   "cell_type": "code",
   "execution_count": 49,
   "metadata": {},
   "outputs": [
    {
     "data": {
      "text/plain": [
       "<qutip.qobjevo.QobjEvo at 0x7fd849eabf90>"
      ]
     },
     "execution_count": 49,
     "metadata": {},
     "output_type": "execute_result"
    }
   ],
   "source": [
    "noisy_qobjevo"
   ]
  },
  {
   "cell_type": "code",
   "execution_count": 50,
   "metadata": {},
   "outputs": [
    {
     "data": {
      "text/plain": [
       "[]"
      ]
     },
     "execution_count": 50,
     "metadata": {},
     "output_type": "execute_result"
    }
   ],
   "source": [
    "c_ops"
   ]
  },
  {
   "cell_type": "code",
   "execution_count": null,
   "metadata": {},
   "outputs": [],
   "source": []
  }
 ],
 "metadata": {
  "kernelspec": {
   "display_name": "Python 3",
   "language": "python",
   "name": "python3"
  },
  "language_info": {
   "codemirror_mode": {
    "name": "ipython",
    "version": 3
   },
   "file_extension": ".py",
   "mimetype": "text/x-python",
   "name": "python",
   "nbconvert_exporter": "python",
   "pygments_lexer": "ipython3",
   "version": "3.7.7"
  }
 },
 "nbformat": 4,
 "nbformat_minor": 4
}
