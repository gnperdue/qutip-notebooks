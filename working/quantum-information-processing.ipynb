{
 "cells": [
  {
   "cell_type": "markdown",
   "metadata": {},
   "source": [
    "# Quantum Information Processing\n",
    "\n",
    "Following: http://qutip.org/docs/latest/guide/guide-qip.html"
   ]
  },
  {
   "cell_type": "markdown",
   "metadata": {},
   "source": [
    "## Quantum Circuit"
   ]
  },
  {
   "cell_type": "code",
   "execution_count": 1,
   "metadata": {},
   "outputs": [],
   "source": [
    "from qutip.qip.circuit import QubitCircuit, Gate\n",
    "from qutip.qip.operations import gate_sequence_product"
   ]
  },
  {
   "cell_type": "code",
   "execution_count": 2,
   "metadata": {},
   "outputs": [
    {
     "name": "stdout",
     "output_type": "stream",
     "text": [
      "[Gate(SWAP, targets=[0, 1], controls=None), Gate(CNOT, targets=[1], controls=[0]), Gate(SWAP, targets=[0, 1], controls=None)]\n"
     ]
    }
   ],
   "source": [
    "qc = QubitCircuit(N=2)\n",
    "\n",
    "# Gates are class objects inside `qutip.qip.operations.Gate`\n",
    "swap_gate = Gate(name=\"SWAP\", targets=[0, 1])\n",
    "qc.add_gate(swap_gate)\n",
    "qc.add_gate(\"CNOT\", controls=0, targets=1)\n",
    "qc.add_gate(swap_gate)\n",
    "print(qc.gates)"
   ]
  },
  {
   "cell_type": "code",
   "execution_count": 3,
   "metadata": {},
   "outputs": [
    {
     "name": "stdout",
     "output_type": "stream",
     "text": [
      "3\n",
      "----\n",
      "Quantum object: dims = [[2, 2], [2, 2]], shape = (4, 4), type = oper, isherm = True\n",
      "Qobj data =\n",
      "[[1. 0. 0. 0.]\n",
      " [0. 0. 1. 0.]\n",
      " [0. 1. 0. 0.]\n",
      " [0. 0. 0. 1.]]\n",
      "----\n",
      "Quantum object: dims = [[2, 2], [2, 2]], shape = (4, 4), type = oper, isherm = True\n",
      "Qobj data =\n",
      "[[1. 0. 0. 0.]\n",
      " [0. 0. 0. 1.]\n",
      " [0. 0. 1. 0.]\n",
      " [0. 1. 0. 0.]]\n"
     ]
    }
   ],
   "source": [
    "# Get the matrix representation with `qutip.qip.QubitCircuit.propagators`\n",
    "U_list = qc.propagators()\n",
    "print(len(U_list))\n",
    "print(\"----\")\n",
    "print(U_list[0])\n",
    "print(\"----\")\n",
    "print(gate_sequence_product(U_list))"
   ]
  },
  {
   "cell_type": "code",
   "execution_count": 4,
   "metadata": {},
   "outputs": [
    {
     "name": "stdout",
     "output_type": "stream",
     "text": [
      "[Quantum object: dims = [[2, 2], [2, 2]], shape = (4, 4), type = oper, isherm = True\n",
      "Qobj data =\n",
      "[[1. 0. 0. 0.]\n",
      " [0. 0. 1. 0.]\n",
      " [0. 1. 0. 0.]\n",
      " [0. 0. 0. 1.]]]\n"
     ]
    }
   ],
   "source": [
    "qc_temp = QubitCircuit(N=2)\n",
    "qc_temp.add_gate(swap_gate)\n",
    "print(qc_temp.propagators())"
   ]
  },
  {
   "cell_type": "code",
   "execution_count": 5,
   "metadata": {},
   "outputs": [
    {
     "name": "stdout",
     "output_type": "stream",
     "text": [
      "[Quantum object: dims = [[2, 2], [2, 2]], shape = (4, 4), type = oper, isherm = True\n",
      "Qobj data =\n",
      "[[1. 0. 0. 0.]\n",
      " [0. 1. 0. 0.]\n",
      " [0. 0. 0. 1.]\n",
      " [0. 0. 1. 0.]], Quantum object: dims = [[2, 2], [2, 2]], shape = (4, 4), type = oper, isherm = True\n",
      "Qobj data =\n",
      "[[1. 0. 0. 0.]\n",
      " [0. 0. 0. 1.]\n",
      " [0. 0. 1. 0.]\n",
      " [0. 1. 0. 0.]], Quantum object: dims = [[2, 2], [2, 2]], shape = (4, 4), type = oper, isherm = True\n",
      "Qobj data =\n",
      "[[1. 0. 0. 0.]\n",
      " [0. 1. 0. 0.]\n",
      " [0. 0. 0. 1.]\n",
      " [0. 0. 1. 0.]]]\n"
     ]
    }
   ],
   "source": [
    "qc_temp = QubitCircuit(N=2)\n",
    "qc_temp.add_gate(\"CNOT\", controls=0, targets=1)\n",
    "qc_temp.add_gate(\"CNOT\", controls=1, targets=0)\n",
    "qc_temp.add_gate(\"CNOT\", controls=0, targets=1)\n",
    "print(qc_temp.propagators())"
   ]
  },
  {
   "cell_type": "code",
   "execution_count": 6,
   "metadata": {},
   "outputs": [
    {
     "name": "stdout",
     "output_type": "stream",
     "text": [
      "Quantum object: dims = [[2, 2], [2, 2]], shape = (4, 4), type = oper, isherm = True\n",
      "Qobj data =\n",
      "[[1. 0. 0. 0.]\n",
      " [0. 0. 1. 0.]\n",
      " [0. 1. 0. 0.]\n",
      " [0. 0. 0. 1.]]\n"
     ]
    }
   ],
   "source": [
    "print(gate_sequence_product(qc_temp.propagators()))"
   ]
  },
  {
   "cell_type": "markdown",
   "metadata": {},
   "source": [
    "There are lots of pre-defined gates - e.g., \"RX\", \"SNOT\" (Hadamard), \"SQRTISWAP\", etc. See the documentation.\n",
    "\n",
    "We may also define our own gates:"
   ]
  },
  {
   "cell_type": "code",
   "execution_count": 7,
   "metadata": {},
   "outputs": [],
   "source": [
    "from qutip.qip.operations import rx\n",
    "from qutip import Qobj\n",
    "import numpy as np"
   ]
  },
  {
   "cell_type": "code",
   "execution_count": 8,
   "metadata": {},
   "outputs": [],
   "source": [
    "def user_gate1(arg_value):\n",
    "    # controlled rotation X\n",
    "    mat = np.zeros((4, 4), dtype=np.complex)\n",
    "    mat[0, 0] = mat[1, 1] = 1.\n",
    "    mat[2:4, 2:4] = rx(arg_value)\n",
    "    return Qobj(mat, dims=[[2, 2], [2, 2]])"
   ]
  },
  {
   "cell_type": "code",
   "execution_count": 9,
   "metadata": {},
   "outputs": [],
   "source": [
    "def user_gate2():\n",
    "    # S gate\n",
    "    mat = np.array([[1., 0.],\n",
    "                    [0., 1.j]])\n",
    "    return Qobj(mat, dims=[[2], [2]])"
   ]
  },
  {
   "cell_type": "code",
   "execution_count": 10,
   "metadata": {},
   "outputs": [],
   "source": [
    "qc = QubitCircuit(2)\n",
    "qc.user_gates = {\"CTRLRX\": user_gate1, \"S\": user_gate2}\n",
    "qc.add_gate(\"CTRLRX\", targets=[0, 1], arg_value=np.pi/2)\n",
    "qc.add_gate(\"CTRLRX\", targets=[1, 0], arg_value=np.pi/2)\n",
    "g_T = Gate(\"S\", targets=[1])\n",
    "qc.add_gate(g_T)"
   ]
  },
  {
   "cell_type": "code",
   "execution_count": 11,
   "metadata": {},
   "outputs": [],
   "source": [
    "props = qc.propagators()"
   ]
  },
  {
   "cell_type": "code",
   "execution_count": 12,
   "metadata": {},
   "outputs": [
    {
     "data": {
      "text/latex": [
       "Quantum object: dims = [[2, 2], [2, 2]], shape = (4, 4), type = oper, isherm = False\\begin{equation*}\\left(\\begin{array}{*{11}c}1.0 & 0.0 & 0.0 & 0.0\\\\0.0 & 1.0 & 0.0 & 0.0\\\\0.0 & 0.0 & 0.707 & -0.707j\\\\0.0 & 0.0 & -0.707j & 0.707\\\\\\end{array}\\right)\\end{equation*}"
      ],
      "text/plain": [
       "Quantum object: dims = [[2, 2], [2, 2]], shape = (4, 4), type = oper, isherm = False\n",
       "Qobj data =\n",
       "[[1.        +0.j         0.        +0.j         0.        +0.j\n",
       "  0.        +0.j        ]\n",
       " [0.        +0.j         1.        +0.j         0.        +0.j\n",
       "  0.        +0.j        ]\n",
       " [0.        +0.j         0.        +0.j         0.70710678+0.j\n",
       "  0.        -0.70710678j]\n",
       " [0.        +0.j         0.        +0.j         0.        -0.70710678j\n",
       "  0.70710678+0.j        ]]"
      ]
     },
     "execution_count": 12,
     "metadata": {},
     "output_type": "execute_result"
    }
   ],
   "source": [
    "props[0]"
   ]
  },
  {
   "cell_type": "code",
   "execution_count": 13,
   "metadata": {},
   "outputs": [
    {
     "data": {
      "text/plain": [
       "3"
      ]
     },
     "execution_count": 13,
     "metadata": {},
     "output_type": "execute_result"
    }
   ],
   "source": [
    "len(props)"
   ]
  },
  {
   "cell_type": "code",
   "execution_count": 14,
   "metadata": {},
   "outputs": [
    {
     "data": {
      "text/latex": [
       "Quantum object: dims = [[2, 2], [2, 2]], shape = (4, 4), type = oper, isherm = False\\begin{equation*}\\left(\\begin{array}{*{11}c}1.0 & 0.0 & 0.0 & 0.0\\\\0.0 & 0.707 & 0.0 & -0.707j\\\\0.0 & 0.0 & 1.0 & 0.0\\\\0.0 & -0.707j & 0.0 & 0.707\\\\\\end{array}\\right)\\end{equation*}"
      ],
      "text/plain": [
       "Quantum object: dims = [[2, 2], [2, 2]], shape = (4, 4), type = oper, isherm = False\n",
       "Qobj data =\n",
       "[[1.        +0.j         0.        +0.j         0.        +0.j\n",
       "  0.        +0.j        ]\n",
       " [0.        +0.j         0.70710678+0.j         0.        +0.j\n",
       "  0.        -0.70710678j]\n",
       " [0.        +0.j         0.        +0.j         1.        +0.j\n",
       "  0.        +0.j        ]\n",
       " [0.        +0.j         0.        -0.70710678j 0.        +0.j\n",
       "  0.70710678+0.j        ]]"
      ]
     },
     "execution_count": 14,
     "metadata": {},
     "output_type": "execute_result"
    }
   ],
   "source": [
    "props[1]"
   ]
  },
  {
   "cell_type": "code",
   "execution_count": 15,
   "metadata": {},
   "outputs": [
    {
     "data": {
      "text/latex": [
       "Quantum object: dims = [[2, 2], [2, 2]], shape = (4, 4), type = oper, isherm = False\\begin{equation*}\\left(\\begin{array}{*{11}c}1.0 & 0.0 & 0.0 & 0.0\\\\0.0 & 1.0j & 0.0 & 0.0\\\\0.0 & 0.0 & 1.0 & 0.0\\\\0.0 & 0.0 & 0.0 & 1.0j\\\\\\end{array}\\right)\\end{equation*}"
      ],
      "text/plain": [
       "Quantum object: dims = [[2, 2], [2, 2]], shape = (4, 4), type = oper, isherm = False\n",
       "Qobj data =\n",
       "[[1.+0.j 0.+0.j 0.+0.j 0.+0.j]\n",
       " [0.+0.j 0.+1.j 0.+0.j 0.+0.j]\n",
       " [0.+0.j 0.+0.j 1.+0.j 0.+0.j]\n",
       " [0.+0.j 0.+0.j 0.+0.j 0.+1.j]]"
      ]
     },
     "execution_count": 15,
     "metadata": {},
     "output_type": "execute_result"
    }
   ],
   "source": [
    "props[2]"
   ]
  },
  {
   "cell_type": "code",
   "execution_count": 16,
   "metadata": {},
   "outputs": [
    {
     "data": {
      "text/latex": [
       "Quantum object: dims = [[2, 2], [2, 2]], shape = (4, 4), type = oper, isherm = True\\begin{equation*}\\left(\\begin{array}{*{11}c}1.0 & 0.0 & 0.0 & 0.0\\\\0.0 & 1.0 & 0.0 & 0.0\\\\0.0 & 0.0 & 1.0 & 0.0\\\\0.0 & 0.0 & 0.0 & 1.0\\\\\\end{array}\\right)\\end{equation*}"
      ],
      "text/plain": [
       "Quantum object: dims = [[2, 2], [2, 2]], shape = (4, 4), type = oper, isherm = True\n",
       "Qobj data =\n",
       "[[1. 0. 0. 0.]\n",
       " [0. 1. 0. 0.]\n",
       " [0. 0. 1. 0.]\n",
       " [0. 0. 0. 1.]]"
      ]
     },
     "execution_count": 16,
     "metadata": {},
     "output_type": "execute_result"
    }
   ],
   "source": [
    "props[2].dag() * props[2]"
   ]
  },
  {
   "cell_type": "code",
   "execution_count": 17,
   "metadata": {},
   "outputs": [
    {
     "data": {
      "text/latex": [
       "Quantum object: dims = [[2, 2], [2, 2]], shape = (4, 4), type = oper, isherm = False\\begin{equation*}\\left(\\begin{array}{*{11}c}1.0 & 0.0 & 0.0 & 0.0\\\\0.0 & 0.707j & -0.500j & 0.500\\\\0.0 & 0.0 & 0.707 & -0.707j\\\\0.0 & 0.707 & 0.500 & 0.500j\\\\\\end{array}\\right)\\end{equation*}"
      ],
      "text/plain": [
       "Quantum object: dims = [[2, 2], [2, 2]], shape = (4, 4), type = oper, isherm = False\n",
       "Qobj data =\n",
       "[[1.        +0.j         0.        +0.j         0.        +0.j\n",
       "  0.        +0.j        ]\n",
       " [0.        +0.j         0.        +0.70710678j 0.        -0.5j\n",
       "  0.5       +0.j        ]\n",
       " [0.        +0.j         0.        +0.j         0.70710678+0.j\n",
       "  0.        -0.70710678j]\n",
       " [0.        +0.j         0.70710678+0.j         0.5       +0.j\n",
       "  0.        +0.5j       ]]"
      ]
     },
     "execution_count": 17,
     "metadata": {},
     "output_type": "execute_result"
    }
   ],
   "source": [
    "gate_sequence_product(props)"
   ]
  },
  {
   "cell_type": "markdown",
   "metadata": {},
   "source": [
    "## Processor for QIP simulation"
   ]
  },
  {
   "cell_type": "markdown",
   "metadata": {},
   "source": [
    "Based on the open system solver - the processor is a simulator of a quantum device on which the circuit will be implemented. The device is controlled with pulses."
   ]
  },
  {
   "cell_type": "code",
   "execution_count": 18,
   "metadata": {},
   "outputs": [],
   "source": [
    "from qutip.qip.device import Processor"
   ]
  },
  {
   "cell_type": "code",
   "execution_count": 19,
   "metadata": {},
   "outputs": [],
   "source": [
    "proc = Processor(2)"
   ]
  },
  {
   "cell_type": "code",
   "execution_count": 20,
   "metadata": {},
   "outputs": [],
   "source": [
    "from qutip.operators import sigmaz"
   ]
  },
  {
   "cell_type": "code",
   "execution_count": 21,
   "metadata": {},
   "outputs": [],
   "source": [
    "proc.add_control(sigmaz(), cyclic_permutation=True)\n",
    "proc.pulses[0].coeffs = np.array([[1.0, 1.5, 2.0],\n",
    "                                  [1.8, 1.3, 0.8]])\n",
    "proc.pulses[0].tlist = np.array([0.1, 0.2, 0.4, 0.5])"
   ]
  },
  {
   "cell_type": "markdown",
   "metadata": {},
   "source": [
    "`qutip.qip.device.ModelProcessor` is more experiment-oriented and based on physical models. A universal set of gates is defined on the processor as well as the pulses implementing them in this specific physical model. There is another approach based on the optimal control module in QuTiP. There we define available Hamiltonians and the processor uses algorithms to find the optimal control pulses that realize the desired unitary."
   ]
  },
  {
   "cell_type": "markdown",
   "metadata": {},
   "source": [
    "### Spin Chain"
   ]
  },
  {
   "cell_type": "markdown",
   "metadata": {},
   "source": [
    "The control Hamiltonians are $\\sigma_x$, $\\sigma_z$, and $\\sigma_x \\sigma_x + \\sigma_y \\sigma_y$. This processor will first decompose the gate into the the universal gate set with ISWAP and SQRTISWAP as two qubit gates, resolve them into quantum gates of adjacent qubits, and then compute the pulse coefficients."
   ]
  },
  {
   "cell_type": "markdown",
   "metadata": {},
   "source": [
    "### Dispersive cQED"
   ]
  },
  {
   "cell_type": "markdown",
   "metadata": {},
   "source": [
    "A simulator based on Cavity QED. The control Hamiltonians are the single qubit-rotation together with the qubits-vacity interaction $a^{\\dagger} \\sigma^-  + a \\sigma^+$."
   ]
  },
  {
   "cell_type": "markdown",
   "metadata": {},
   "source": [
    "### OptPulseProcessor"
   ]
  },
  {
   "cell_type": "markdown",
   "metadata": {},
   "source": [
    "The Hamiltonian includes a drift part and a control part."
   ]
  },
  {
   "cell_type": "code",
   "execution_count": 22,
   "metadata": {},
   "outputs": [],
   "source": [
    "from qutip.qip.device import OptPulseProcessor\n",
    "from qutip.operators import sigmaz, sigmax, sigmay\n",
    "from qutip.tensor import tensor"
   ]
  },
  {
   "cell_type": "code",
   "execution_count": 23,
   "metadata": {},
   "outputs": [],
   "source": [
    "# same parameter for all gates\n",
    "qc = QubitCircuit(N=1)\n",
    "qc.add_gate(\"SNOT\", 0)"
   ]
  },
  {
   "cell_type": "code",
   "execution_count": 24,
   "metadata": {},
   "outputs": [],
   "source": [
    "num_tslots = 10\n",
    "evo_time = 10\n",
    "processor = OptPulseProcessor(N=1, drift=sigmaz())\n",
    "processor.add_control(sigmax())\n",
    "tlist, coeffs = processor.load_circuit(\n",
    "    qc, num_tslots=num_tslots, evo_time=evo_time\n",
    ")"
   ]
  },
  {
   "cell_type": "code",
   "execution_count": 25,
   "metadata": {},
   "outputs": [
    {
     "data": {
      "text/plain": [
       "array([ 0.,  1.,  2.,  3.,  4.,  5.,  6.,  7.,  8.,  9., 10.])"
      ]
     },
     "execution_count": 25,
     "metadata": {},
     "output_type": "execute_result"
    }
   ],
   "source": [
    "tlist"
   ]
  },
  {
   "cell_type": "code",
   "execution_count": 26,
   "metadata": {},
   "outputs": [
    {
     "data": {
      "text/plain": [
       "array([[ 0.92953637,  0.83046649,  0.5186285 , -0.17935601,  0.14984946,\n",
       "        -0.21224641,  0.62587635,  0.07777727,  0.49509852,  0.50411125]])"
      ]
     },
     "execution_count": 26,
     "metadata": {},
     "output_type": "execute_result"
    }
   ],
   "source": [
    "coeffs"
   ]
  },
  {
   "cell_type": "code",
   "execution_count": 27,
   "metadata": {},
   "outputs": [],
   "source": [
    "# different parameters for different gates\n",
    "qc = QubitCircuit(N=2)\n",
    "qc.add_gate('SNOT', 0)\n",
    "qc.add_gate('SWAP', targets=[0, 1])\n",
    "qc.add_gate('CNOT', controls=1, targets=[0])"
   ]
  },
  {
   "cell_type": "code",
   "execution_count": 28,
   "metadata": {},
   "outputs": [],
   "source": [
    "processor = OptPulseProcessor(N=2, drift=tensor([sigmaz()]*2))\n",
    "processor.add_control(sigmax(), cyclic_permutation=True)\n",
    "processor.add_control(sigmay(), cyclic_permutation=True)\n",
    "processor.add_control(tensor([sigmay(), sigmay()]))"
   ]
  },
  {
   "cell_type": "code",
   "execution_count": 29,
   "metadata": {},
   "outputs": [],
   "source": [
    "setting_args = {\n",
    "    'SNOT': {'num_tslots': 10, 'evo_time': 1},\n",
    "    'SWAP': {'num_tslots': 30, 'evo_time': 3},\n",
    "    'CNOT': {'num_tslots': 30, 'evo_time': 3}\n",
    "}"
   ]
  },
  {
   "cell_type": "code",
   "execution_count": 30,
   "metadata": {},
   "outputs": [],
   "source": [
    "tlist, coeffs = processor.load_circuit(\n",
    "    qc, setting_args=setting_args, merge_gates=False)"
   ]
  },
  {
   "cell_type": "code",
   "execution_count": 31,
   "metadata": {},
   "outputs": [
    {
     "data": {
      "text/plain": [
       "array([0.        , 0.1       , 0.2       , 0.3       , 0.40000001,\n",
       "       0.50000001, 0.60000001, 0.70000001, 0.80000001, 0.90000001,\n",
       "       1.00000001, 1.10000002, 1.20000002, 1.30000002, 1.40000002,\n",
       "       1.50000002, 1.60000002, 1.70000003, 1.80000003, 1.90000003,\n",
       "       2.00000003, 2.10000003, 2.20000003, 2.30000003, 2.40000004,\n",
       "       2.50000004, 2.60000004, 2.70000004, 2.80000004, 2.90000004,\n",
       "       3.00000004, 3.10000005, 3.20000005, 3.30000005, 3.40000005,\n",
       "       3.50000005, 3.60000005, 3.70000006, 3.80000006, 3.90000006,\n",
       "       4.00000006, 4.10000006, 4.20000006, 4.30000006, 4.40000007,\n",
       "       4.50000007, 4.60000007, 4.70000007, 4.80000007, 4.90000007,\n",
       "       5.00000007, 5.10000008, 5.20000008, 5.30000008, 5.40000008,\n",
       "       5.50000008, 5.60000008, 5.70000008, 5.80000009, 5.90000009,\n",
       "       6.00000009, 6.10000009, 6.20000009, 6.30000009, 6.4000001 ,\n",
       "       6.5000001 , 6.6000001 , 6.7000001 , 6.8000001 , 6.9000001 ,\n",
       "       7.0000001 ])"
      ]
     },
     "execution_count": 31,
     "metadata": {},
     "output_type": "execute_result"
    }
   ],
   "source": [
    "tlist"
   ]
  },
  {
   "cell_type": "code",
   "execution_count": 32,
   "metadata": {},
   "outputs": [
    {
     "data": {
      "text/plain": [
       "array([[ 2.76850764e-01, -4.99546127e+00, -1.37583306e+00,\n",
       "        -3.30901729e-02,  8.29303721e-01, -2.41545384e+00,\n",
       "        -2.15843613e+00, -2.83400578e+00, -1.38759898e+00,\n",
       "        -9.87685251e-02, -5.55477799e-01, -7.45907761e-01,\n",
       "         1.40659671e-01,  3.02580362e-01, -6.82625003e-01,\n",
       "         4.97931893e-01,  9.14871375e-02, -4.38791122e-01,\n",
       "         2.19752745e-01,  5.38107311e-01, -7.92338566e-01,\n",
       "        -5.01630284e-01,  1.16991559e+00, -2.78891714e-01,\n",
       "        -2.48318183e-01, -4.29666943e-01, -1.08708852e-02,\n",
       "        -1.88151887e-01, -1.01965402e+00,  4.83182976e-02,\n",
       "         7.31408675e-01, -2.46725532e-01,  4.83196146e-01,\n",
       "        -8.79396278e-02,  4.60005708e-01, -8.27448000e-02,\n",
       "        -4.11816988e-01,  2.39784283e-01, -4.46102065e-02,\n",
       "         1.32697522e-01,  8.47661330e-02, -5.69401088e-02,\n",
       "        -6.02001648e-01, -1.02120350e+00, -3.88135830e-01,\n",
       "         7.18481057e-01, -5.45237677e-01, -7.18930115e-01,\n",
       "         1.06197763e+00,  1.07291061e+00,  5.02833218e-01,\n",
       "         1.05765742e+00,  1.07581139e-01,  8.51271812e-01,\n",
       "         1.35454128e+00,  5.33564328e-01, -2.71575962e-01,\n",
       "        -9.75151421e-02,  1.03096552e+00,  5.46499813e-01,\n",
       "         6.76372856e-01, -4.11639578e-01, -1.03546940e-01,\n",
       "         8.65910330e-01,  8.78613240e-01, -5.33569899e-01,\n",
       "        -6.16180938e-01, -2.19033325e-01, -4.67858405e-01,\n",
       "        -4.01397678e-01],\n",
       "       [ 4.07554683e+00,  1.62742701e-01, -1.76330815e+00,\n",
       "        -1.80041725e+00, -4.80036419e-01, -5.10945538e-01,\n",
       "        -1.23838475e+00, -1.03543428e+00,  1.01409692e+00,\n",
       "         4.01692838e+00, -7.97342052e-01, -4.74244689e-01,\n",
       "         2.14259658e-02, -1.32512925e-01,  2.27258613e-01,\n",
       "        -2.52348906e-01, -3.61749072e-01, -1.12337415e-01,\n",
       "        -7.68766836e-01,  9.11911363e-01, -5.17684488e-01,\n",
       "         5.62686016e-01,  4.62487115e-01, -4.67910287e-02,\n",
       "        -5.47949828e-01, -4.15039466e-01, -4.62218011e-01,\n",
       "        -9.77675662e-01,  5.20176510e-02, -1.58079354e-01,\n",
       "         4.62693003e-01, -9.66727874e-01,  6.26074285e-01,\n",
       "         3.66838230e-01, -2.85212501e-01, -1.11051015e+00,\n",
       "         9.37447482e-01, -2.54799903e-01,  2.76389344e-01,\n",
       "        -2.07555061e-01,  1.18919764e+00,  1.29359467e-01,\n",
       "         7.66676676e-01, -1.00537469e+00, -1.06670011e+00,\n",
       "         8.97678075e-01,  2.91809948e-01, -1.35059408e-01,\n",
       "         4.34036788e-01,  1.69616750e+00,  7.80257466e-01,\n",
       "        -2.97588156e-01,  3.07378257e-01,  1.01260479e+00,\n",
       "        -5.20436201e-01, -1.09322723e+00,  1.54105486e-01,\n",
       "        -8.62083514e-01, -6.73526139e-02, -7.09215179e-01,\n",
       "        -2.95150421e-01,  8.04471727e-01,  1.38760983e+00,\n",
       "         2.28282303e+00,  8.87613632e-01,  1.79986923e+00,\n",
       "         1.01599972e+00, -9.44991850e-01, -7.55793935e-01,\n",
       "        -5.79588154e-01],\n",
       "       [ 5.84000767e+00,  3.16158052e+00,  5.01380416e-01,\n",
       "        -2.10618729e+00, -1.33622303e+00, -1.65004353e+00,\n",
       "         1.64013825e+00,  2.33710407e+00,  1.36544482e+00,\n",
       "        -3.85499626e+00, -2.21698946e-01,  8.41099969e-01,\n",
       "         6.32868390e-01,  2.91370594e-01, -1.97467503e-01,\n",
       "         5.96581280e-01,  4.95348058e-01, -4.42466750e-01,\n",
       "         1.83341553e-02,  1.04048159e+00, -4.27250928e-01,\n",
       "        -2.96161246e-01,  2.96299489e-01, -2.99490657e-01,\n",
       "         4.84644546e-01, -2.77824533e-02, -3.63702726e-01,\n",
       "         5.40928864e-02, -1.12134161e+00, -1.45597442e+00,\n",
       "        -9.62218734e-01, -1.50761486e-01, -1.02601424e+00,\n",
       "        -1.38902801e-01, -1.34425270e+00, -1.48038368e+00,\n",
       "        -9.41704712e-01, -9.54678020e-02, -9.30167603e-01,\n",
       "        -4.75153787e-01, -6.03426152e-01,  6.74910801e-01,\n",
       "         8.49523815e-01, -2.58586811e-01,  8.77810690e-01,\n",
       "         3.37102055e-01,  7.59239028e-01,  6.22543864e-01,\n",
       "         4.14907251e-01,  7.61173244e-02,  8.35870103e-01,\n",
       "         9.05038516e-02,  5.39951545e-04,  5.04376213e-01,\n",
       "        -4.58918111e-01, -1.04593398e+00, -8.05652915e-01,\n",
       "         6.47369387e-01, -6.89726057e-01, -8.02246270e-01,\n",
       "        -4.22892505e-01, -7.42274934e-01, -1.31956813e-01,\n",
       "        -7.66843239e-01,  1.31915418e-01, -5.29764630e-01,\n",
       "         8.52215757e-02, -4.04696656e-01, -2.43080393e-01,\n",
       "        -5.31458113e-01],\n",
       "       [-3.24461634e-01,  9.33057197e-03,  4.57046680e-01,\n",
       "         3.97226762e-01,  4.84977841e-02, -3.80569592e-01,\n",
       "        -5.00587828e-01, -2.75727560e-01,  1.19748886e+00,\n",
       "        -4.21732818e-01, -3.37199745e-03, -1.31285132e-01,\n",
       "        -1.53213651e-01, -3.03216194e-01, -3.20390645e-01,\n",
       "         1.73122627e-01,  3.70062945e-01,  7.19279140e-01,\n",
       "         5.34482170e-01,  3.56336438e-01, -1.97793337e-01,\n",
       "         3.84527823e-02,  5.48723777e-01, -5.93733012e-01,\n",
       "         1.91690108e-01,  6.53313963e-01,  5.07822185e-01,\n",
       "         8.20785962e-01,  1.66501471e+00,  6.96991769e-01,\n",
       "         1.61779320e+00,  1.03916262e+00,  1.05779661e+00,\n",
       "         1.10659525e+00,  1.11143721e+00,  1.09966376e+00,\n",
       "         1.36303136e+00,  9.41212602e-01,  1.21847884e+00,\n",
       "         8.39855694e-01,  8.64533714e-01,  1.87706133e-01,\n",
       "         1.18959548e+00,  1.05078307e+00, -7.33770392e-01,\n",
       "         2.90134823e-01, -8.66621095e-01,  7.85484043e-01,\n",
       "        -8.85561058e-01,  4.46802234e-01,  1.10862990e+00,\n",
       "         1.43543459e+00,  5.15082338e-01,  2.21416613e-01,\n",
       "         1.46013509e+00,  5.39254869e-01, -5.41770190e-01,\n",
       "         2.13025394e-01,  2.69252524e-01, -1.69524890e+00,\n",
       "        -6.33127758e-01, -1.64378079e+00, -1.54536205e+00,\n",
       "        -4.88343128e-01,  1.01991641e+00,  5.87635262e-01,\n",
       "         1.59660201e+00,  1.40544498e+00, -2.59897862e-01,\n",
       "        -8.26803903e-01],\n",
       "       [-1.82799566e+00, -2.86183486e+00, -8.65786168e-01,\n",
       "         9.32148071e-02, -2.59031940e-02, -4.46505870e-01,\n",
       "         7.50710681e-01, -1.59587434e+00, -2.43608096e+00,\n",
       "        -9.69762867e-01,  3.82746385e-01, -5.98284947e-02,\n",
       "         6.92988444e-01, -6.58501146e-02,  2.72718852e-01,\n",
       "        -2.89880235e-01,  4.53230516e-02, -4.47161356e-01,\n",
       "         2.29247155e-01, -5.72329708e-01, -7.09254686e-01,\n",
       "        -3.03021291e-01,  8.85074697e-01,  5.60333949e-01,\n",
       "         2.81862753e-01, -8.56663345e-01, -1.29211666e-01,\n",
       "        -5.11265999e-01,  1.33679104e+00,  8.91249315e-01,\n",
       "         8.40878487e-01,  9.45244464e-01, -9.76942882e-02,\n",
       "         3.38319605e-01,  1.07706125e+00, -3.66932710e-01,\n",
       "         1.07095236e+00,  1.23006296e+00,  4.04975676e-01,\n",
       "         9.16505021e-01, -2.15240028e-01,  6.26478512e-01,\n",
       "         6.06576502e-01,  8.80706164e-01, -9.59353394e-01,\n",
       "        -2.24860596e-01,  8.45717256e-01, -1.39646567e-01,\n",
       "        -7.52986196e-01,  4.54677786e-01, -5.08428647e-02,\n",
       "         6.42802338e-01,  9.76018419e-01, -7.87207005e-01,\n",
       "         7.62307655e-02,  9.46222473e-01, -5.64748766e-01,\n",
       "        -7.25648127e-01, -2.26913565e-01,  9.69282508e-01,\n",
       "        -3.21515618e-01,  9.95724131e-01, -9.27817760e-01,\n",
       "         4.48020953e-02, -2.50690694e-01,  1.12817267e+00,\n",
       "         2.94844808e-01,  1.62787882e-01,  8.58020144e-01,\n",
       "         1.19432659e+00]])"
      ]
     },
     "execution_count": 32,
     "metadata": {},
     "output_type": "execute_result"
    }
   ],
   "source": [
    "coeffs"
   ]
  },
  {
   "cell_type": "markdown",
   "metadata": {},
   "source": [
    "## Noise Simulation"
   ]
  },
  {
   "cell_type": "markdown",
   "metadata": {},
   "source": [
    "..."
   ]
  },
  {
   "cell_type": "code",
   "execution_count": null,
   "metadata": {},
   "outputs": [],
   "source": []
  }
 ],
 "metadata": {
  "kernelspec": {
   "display_name": "Python 3",
   "language": "python",
   "name": "python3"
  },
  "language_info": {
   "codemirror_mode": {
    "name": "ipython",
    "version": 3
   },
   "file_extension": ".py",
   "mimetype": "text/x-python",
   "name": "python",
   "nbconvert_exporter": "python",
   "pygments_lexer": "ipython3",
   "version": "3.7.7"
  }
 },
 "nbformat": 4,
 "nbformat_minor": 4
}
